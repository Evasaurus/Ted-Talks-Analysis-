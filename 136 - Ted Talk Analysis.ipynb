{
 "cells": [
  {
   "cell_type": "markdown",
   "metadata": {},
   "source": [
    "TFVector Recommender:\n",
    "\n",
    "This chunk generates a matrix of TFIDF vectors of the transcripts, then uses cosine similiarity to generate a column that is added onto the metadata dataframe listing the top 3 most similar other TED talks."
   ]
  },
  {
   "cell_type": "code",
   "execution_count": 7,
   "metadata": {
    "scrolled": true
   },
   "outputs": [
    {
     "name": "stdout",
     "output_type": "stream",
     "text": [
      "malcolm_london_high_school_training_ground\n",
      ",jennifer_8_lee_looks_for_general_tso\n",
      ",mandy_len_catron_falling_in_love_is_the_easy_part\n",
      ",jaap_de_roode_how_butterflies_self_medicate\n",
      "\n"
     ]
    }
   ],
   "source": [
    "import os\n",
    "\n",
    "import pandas as pd\n",
    "\n",
    "import numpy as np\n",
    "[InternetShortcut]\n",
    "URL=http://localhost:8888/notebooks/data/136%20-%20Ted%20Talk%20Analysis.ipynb#\n",
    "\n",
    "from sklearn.feature_extraction import text\n",
    "\n",
    "from sklearn.metrics.pairwise import cosine_similarity\n",
    "\n",
    "\n",
    "os.chdir('C:/Users/dad/Desktop/136/data/kaggle-data/')\n",
    "\n",
    "\n",
    "transcripts = pd.read_csv('transcripts.csv')\n",
    "\n",
    "transcripts['title']=transcripts['url'].map(lambda x:x.split(\"/\")[-1])\n",
    "\n",
    "\n",
    "\n",
    "def analyzeScripts():\n",
    "\n",
    "    scripts = getScripts()\n",
    "\n",
    "    vectorMatrix = generateTFIDMatrix(scripts)\n",
    "\n",
    "    unigramMatrix = generateUnigramMatrix(vectorMatrix)\n",
    "\n",
    "    return vectorMatrix, unigramMatrix\n",
    "\n",
    "\n",
    "\n",
    "def getScripts():\n",
    "\n",
    "    return transcripts['transcript'].tolist()\n",
    "\n",
    "\n",
    "\n",
    "def generateTFIDMatrix(scripts):\n",
    "\n",
    "    tfidfGenerator = text.TfidfVectorizer(input= scripts, stop_words= \"english\")\n",
    "\n",
    "    matrix = tfidfGenerator.fit_transform(scripts)\n",
    "\n",
    "    return matrix\n",
    "\n",
    "\n",
    "\n",
    "def generateUnigram(tfidMatrix):\n",
    "\n",
    "    return cosine_similarity(tfidMatrix)\n",
    "\n",
    "\n",
    "\n",
    "def getSimilarArticles(articleText):\n",
    "\n",
    "    allScripts = getScripts()\n",
    "\n",
    "    allScripts.append(articleText)\n",
    "\n",
    "    tfdiMatrix = generateTFIDMatrix(allScripts)\n",
    "\n",
    "    unigram = generateUnigram(tfdiMatrix)\n",
    "\n",
    "    return \",\".join(transcripts['title'].loc[unigram[-1].argsort()[-5:-1]])\n",
    "\n",
    "\n",
    "\n",
    "\n",
    "\n",
    "if __name__ == \"__main__\":\n",
    "\n",
    "    allScripts = getScripts()\n",
    "\n",
    "    testText = allScripts.pop(5)\n",
    "\n",
    "    transcripts.drop(5, inplace=True)\n",
    "\n",
    "    #tfidfGenerator = text.TfidfVectorizer(input= allScripts, stop_words= \"english\")\n",
    "\n",
    "    #matrix = tfidfGenerator.fit_transform(allScripts)\n",
    "\n",
    "    #print(matrix.shape)\n",
    "\n",
    "\n",
    "\n",
    "    #print(generateTFIDMatrix(allScripts).shape)\n",
    "\n",
    "    #print(generateUnigram(matrix).shape)\n",
    "\n",
    "    print(getSimilarArticles(testText))\n",
    "\n",
    "    "
   ]
  },
  {
   "cell_type": "markdown",
   "metadata": {},
   "source": [
    "Clean Text:\n",
    "\n",
    "Punctuation and symbols need to be removed from the transcripts. This chunk has a list of symbols and \"junk\" to look out for and replaces them with new lines."
   ]
  },
  {
   "cell_type": "code",
   "execution_count": 8,
   "metadata": {},
   "outputs": [
    {
     "name": "stdout",
     "output_type": "stream",
     "text": [
      "Cleaning your data...\n",
      "Your new .csv has been written to C:/Users/dad/Desktop/136/data/kaggle-data/clean_transcripts.csv\n"
     ]
    }
   ],
   "source": [
    "import pandas as pd\n",
    "\n",
    "\n",
    "\n",
    "def main():\n",
    "\n",
    "    print('Cleaning your data...')\n",
    "\n",
    "    filepath = 'C:/Users/dad/Desktop/136/data/kaggle-data/'\n",
    "    \n",
    "    filename = 'transcripts.csv'\n",
    "\n",
    "    target_filename = 'clean_transcripts.csv'\n",
    "\n",
    "    \n",
    "\n",
    "    df = pd.read_csv(filepath + filename)\n",
    "\n",
    "    \n",
    "\n",
    "    # Remove non-ascii first\n",
    "\n",
    "    df.transcript.replace({r'[^\\x00-\\x7F]+':''}, regex=True, inplace=True)\n",
    "\n",
    "    patts = [\".\", \"?\", \"!\", \"\\'\", \"(Laughter)\", \"(Applause)\", \"(\", \")\", \"\\\"\", \"\\n \", \"-\", \";\", \":\"]\n",
    "\n",
    "    repl = [\"\\n\", \"\", \"Laughter\\n\", \"Applause\\n\"]\n",
    "\n",
    "\n",
    "\n",
    "    # Replace everything\n",
    "\n",
    "    df['clean_transcripts'] = df.transcript.str.replace(patts[0], repl[0])\n",
    "\n",
    "    df['clean_transcripts'] = df.clean_transcripts.str.replace(patts[1], repl[0])\n",
    "\n",
    "    df['clean_transcripts'] = df.clean_transcripts.str.replace(patts[2], repl[0])\n",
    "\n",
    "    df['clean_transcripts'] = df.clean_transcripts.str.replace(patts[3], repl[1])\n",
    "\n",
    "    df['clean_transcripts'] = df.clean_transcripts.str.replace(patts[4], repl[2])\n",
    "\n",
    "    df['clean_transcripts'] = df.clean_transcripts.str.replace(patts[5], repl[3])\n",
    "\n",
    "    df['clean_transcripts'] = df.clean_transcripts.str.replace(patts[6], repl[1])\n",
    "\n",
    "    df['clean_transcripts'] = df.clean_transcripts.str.replace(patts[7], repl[1])\n",
    "\n",
    "    df['clean_transcripts'] = df.clean_transcripts.str.replace(patts[8], repl[1])\n",
    "\n",
    "    df['clean_transcripts'] = df.clean_transcripts.str.replace(patts[9], repl[1])\n",
    "\n",
    "    df['clean_transcripts'] = df.clean_transcripts.str.replace(patts[10], repl[1])\n",
    "\n",
    "    df['clean_transcripts'] = df.clean_transcripts.str.replace(patts[11], repl[1])\n",
    "\n",
    "    \n",
    "\n",
    "    # Make everything lower case\n",
    "\n",
    "    df['clean_transcripts'] = df['clean_transcripts'].str.lower()\n",
    "\n",
    "    \n",
    "\n",
    "    df.to_csv(filepath + target_filename)\n",
    "\n",
    "    print('Your new .csv has been written to {}'.format(filepath \n",
    "\n",
    "        + target_filename))\n",
    "\n",
    "\n",
    "\n",
    "if __name__ == \"__main__\":\n",
    "\n",
    "    main()"
   ]
  },
  {
   "cell_type": "raw",
   "metadata": {
    "scrolled": false
   },
   "source": [
    "#Analyze Sentiment\n",
    "\n",
    "##This script uses TextBlob to anaylze the sentiment and subjectivity score of each transcript and adds that column to our metadata. The sentiment score is on a scale of -1 to 1, from very negative to very positive.\n",
    "\n",
    "\n",
    "import textblob\n",
    "\n",
    "\n",
    "\n",
    "def getSentimentScores(dataFrame):\n",
    "\n",
    "    polarities = []\n",
    "\n",
    "    subjectivity = []\n",
    "\n",
    "    for index, row in dataFrame.iterrows():\n",
    "\n",
    "        try:\n",
    "\n",
    "            scores = textblob.TextBlob(row['transcript'])\n",
    "\n",
    "            polarities.append(scores.sentiment.polarity)\n",
    "\n",
    "            subjectivity.append(scores.sentiment.subjectivity)\n",
    "\n",
    "        except:\n",
    "\n",
    "            pass\n",
    "\n",
    "    subjects = {'polarity': polarities, 'subjectivity': subjectivity}\n",
    "\n",
    "    return pd.DataFrame(data= subjects)\n",
    "\n",
    "    \n",
    "\n",
    "def main():\n",
    "\n",
    "\n",
    "    filepath = \"C:/Users/dad/Desktop/136/data/kaggle-data/\"\n",
    "\n",
    "    fileName = \"merged_data.csv\"\n",
    "\n",
    "    print(\"Analyzing sentiment...\")\n",
    "\n",
    "    dataFrame = pd.read_csv(filepath + fileName)\n",
    "\n",
    "    scoresDF = getSentimentScores(dataFrame)\n",
    "\n",
    "    merged = pd.concat([dataFrame, scoresDF], axis= 1)\n",
    "\n",
    "    merged[['polarity', 'subjectivity']].fillna(value = 0)\n",
    "\n",
    "    merged.to_csv(filepath + fileName)\n",
    "\n",
    "    print(\"Rewrote data back to {}\".format(filepath + fileName))\n",
    "\n",
    "\n",
    "\n",
    "if __name__ == \"__main__\":\n",
    "\n",
    "    main()\n",
    "\n",
    "\n",
    "\n",
    "#analyze TFID\n",
    "\n",
    "##This script generates it's own dataframe of TFIDF vectors that it stores in a seperate csv from the main dataframe, as they don't fit into a dataframe column conveniently\n",
    "\n",
    "import sys\n",
    "import pandas as pd\n",
    "import numpy as np\n",
    "from scipy.sparse import csr_matrix\n",
    "from sklearn.feature_extraction import text\n",
    "\n",
    "def getVectors(dataFrame):\n",
    "    print(dataFrame.head())\n",
    "    scripts = dataFrame[['transcript']].values.tolist()\n",
    "    #print(len(scripts))\n",
    "    #print(dataFrame['transcript'])\n",
    "    #print(dataFrame.transcript.isnull().sum())\n",
    "    tfidfGenerator = text.TfidfVectorizer(input= scripts, stop_words= \"english\")\n",
    "    matrix = tfidfGenerator.fit_transform([s for sub in scripts for s in sub if isinstance(s, str)])\n",
    "    return matrix\n",
    "\n",
    "def writeFile(fileName, vectors):\n",
    "    with open(fileName[:-4] + \"_vectors.csv\", 'w+') as file:\n",
    "        for row in vectors:\n",
    "            line = ''\n",
    "            for num in row:\n",
    "                line += str(num) + ','\n",
    "            line = line[:-1]\n",
    "            line = line + '\\n'\n",
    "            file.write(line)\n",
    "\n",
    "def main():\n",
    "    #fileName = sys.argv[0]\n",
    "    \n",
    "    # filepath = 'C:/Users/dad/Desktop/136/data/kaggle-data/'\n",
    "    filepath = \"C:/Users/dad/Desktop/136/data/kaggle-data/\"\n",
    "    fileName = 'merged_data.csv'\n",
    "    file = filepath + fileName\n",
    "    \n",
    "    print(\"Generating TFID vectors...\")\n",
    "    dataFrame = pd.read_csv(file)\n",
    "    dataFrame = dataFrame[['transcript']]\n",
    "    dataFrame = dataFrame[pd.notnull(dataFrame)]\n",
    "    vectors = getVectors(dataFrame)\n",
    "    writeFile(file, vectors)\n",
    "    print(\"Wrote TFIFD data to {}\".format(file[:-4] + \"_vectors.csv\"))\n",
    "\n",
    "if __name__ == \"__main__\":\n",
    "    main()\n",
    "\n",
    "    \n",
    "    \n",
    "    \n",
    "#finalStrip.py\n",
    "\n",
    "##Final strip takes one last pass through the merged dataframe to find NaN or NA values, dropping these rows from the dataset\n",
    "\n",
    "def main():\n",
    "\n",
    "    filename = 'merged_data.csv'\n",
    "\n",
    "    filepath = 'C:/Users/dad/Desktop/136/data/kaggle-data/'\n",
    "\n",
    "    data = pd.read_csv(filepath + filename)\n",
    "\n",
    "    data = data.dropna(subset=['clean_transcripts'])\n",
    "\n",
    "    data = data.dropna(subset=['transcript'])\n",
    "\n",
    "    \n",
    "\n",
    "    # Drop junk transcripts\n",
    "\n",
    "    garbage = ['10 ways the world could end', \n",
    "\n",
    "            'How to make a splash in social media',\n",
    "\n",
    "            'A cyber-magic card trick like no other',\n",
    "\n",
    "            'How to go to space, without having to go to space']\n",
    "\n",
    "    for title in garbage:\n",
    "\n",
    "        data = data[data.title != title]\n",
    "\n",
    " \n",
    "\n",
    "    #print(data.transcript.isnull().sum())\n",
    "\n",
    "    data['stripped_transcripts'] = [row.clean_transcripts.split() for row in data.itertuples()]    \n",
    "\n",
    "    _ = data.to_csv(filepath + filename)\n",
    "\n",
    "    print(\"File written to {}\".format(filepath + filename))\n",
    "\n",
    "\n",
    "\n",
    "if __name__ == \"__main__\":\n",
    "\n",
    "    main()\n",
    "    \n",
    "    \n",
    " #join Data\n",
    "\n",
    "##This merges our TED meta data dataframe with each of the transcripts from our transcript dataframe   \n",
    "\n",
    "    \n",
    "def main():\n",
    "\n",
    "    print(\"Joining data sets\")\n",
    "\n",
    "    filepath = 'C:/Users/dad/Desktop/136/data/kaggle-data/'\n",
    "\n",
    "    file_1 = 'clean_transcripts.csv'\n",
    "\n",
    "    file_2 = 'ted_main.csv'\n",
    "\n",
    "    filename = 'merged_data.csv'\n",
    "\n",
    "\n",
    "\n",
    "    dfs = [pd.read_csv(filepath + file_1), pd.read_csv(filepath + file_2)]\n",
    "\n",
    "    df = pd.concat(dfs, axis=1)\n",
    "\n",
    "    df.drop(df.columns[0], axis=1, inplace=True)\n",
    "\n",
    "    df.to_csv(filepath + filename)\n",
    "\n",
    "    finalStrip.main()\n",
    "\n",
    "    analyzeTFID.main()\n",
    "\n",
    "    vectors = analyzeTFID.getVectors(df)\n",
    "\n",
    "    analyzeTFID.writeFile(filepath + file_1, vectors)\n",
    "\n",
    "    scoresDF = getSentimentScores(df)\n",
    "\n",
    "    df = pd.concat([df, scoresDF], axis= 1)\n",
    "\n",
    "    #df.to_csv(filepath + dest_file)\n",
    "\n",
    "    #analyzeSentiment.main()\n",
    "\n",
    "    print('Your file was written to {}{}'.format(filepath, filename))\n",
    "\n",
    "\n",
    "\n",
    "if __name__ == \"__main__\":\n",
    "\n",
    "    main()"
   ]
  },
  {
   "cell_type": "code",
   "execution_count": 11,
   "metadata": {},
   "outputs": [
    {
     "name": "stderr",
     "output_type": "stream",
     "text": [
      "C:\\ProgramData\\Anaconda3\\lib\\site-packages\\sklearn\\ensemble\\weight_boosting.py:29: DeprecationWarning: numpy.core.umath_tests is an internal NumPy module and should not be imported. It will be removed in a future NumPy release.\n",
      "  from numpy.core.umath_tests import inner1d\n"
     ]
    },
    {
     "name": "stdout",
     "output_type": "stream",
     "text": [
      "[nltk_data] Downloading package stopwords to\n",
      "[nltk_data]     C:\\Users\\dad\\AppData\\Roaming\\nltk_data...\n",
      "[nltk_data]   Package stopwords is already up-to-date!\n"
     ]
    }
   ],
   "source": [
    "import pandas as pd\n",
    "import numpy as np\n",
    "import re\n",
    "import nltk\n",
    "import math\n",
    "import operator\n",
    "import seaborn as sns\n",
    "import matplotlib.pyplot as plt\n",
    "import gender_guesser.detector as gender\n",
    "import xgboost as xgb\n",
    "from sklearn.cluster import KMeans\n",
    "from collections import Counter\n",
    "from IPython.core.interactiveshell import InteractiveShell\n",
    "InteractiveShell.ast_node_interactivity = \"all\"\n",
    "from nltk.corpus import stopwords\n",
    "from nltk.tokenize import word_tokenize\n",
    "from sklearn.metrics import roc_auc_score\n",
    "from sklearn.metrics import fbeta_score, make_scorer\n",
    "from sklearn.decomposition import PCA\n",
    "from sklearn.decomposition import TruncatedSVD\n",
    "from sklearn.linear_model import Ridge\n",
    "from sklearn.linear_model import Lasso\n",
    "from sklearn.linear_model import LinearRegression\n",
    "from sklearn.linear_model import LogisticRegression\n",
    "from sklearn.preprocessing import label_binarize\n",
    "from sklearn.metrics import confusion_matrix\n",
    "from sklearn.model_selection import StratifiedKFold\n",
    "from xgboost.sklearn import XGBClassifier\n",
    "from sklearn.model_selection import train_test_split\n",
    "from sklearn.model_selection import GridSearchCV\n",
    "from xgboost.sklearn import XGBRegressor\n",
    "\n",
    "from sklearn import datasets\n",
    "from sklearn import metrics\n",
    "from sklearn.ensemble import ExtraTreesClassifier\n",
    "from sklearn.feature_selection import RFE\n",
    "nltk.download('stopwords')\n",
    "import os\n",
    "import random\n",
    "\n",
    "from sklearn.feature_extraction import text\n",
    "from sklearn.model_selection import cross_val_score\n",
    "\n",
    "from sklearn.naive_bayes import MultinomialNB\n",
    "from sklearn.linear_model import SGDClassifier"
   ]
  },
  {
   "cell_type": "code",
   "execution_count": 13,
   "metadata": {},
   "outputs": [],
   "source": [
    "filepath = 'C:/Users/dad/Desktop/136/data/kaggle-data/'\n",
    "filename = 'merged_data.csv'\n",
    "\n",
    "#Load data into new dataframe\n",
    "Data = pd.read_csv(filepath + filename) \n",
    "\n",
    "#get rid of the junk column\n",
    "dfA = Data.drop(['Unnamed: 0'], axis=1)\n",
    "\n",
    "#Load data into new dataframe\n",
    "evData = pd.read_csv(filepath + filename) \n",
    "\n",
    "#get rid of the junk column\n",
    "dfB = evData.drop(['Unnamed: 0'], axis=1)\n"
   ]
  },
  {
   "cell_type": "code",
   "execution_count": 14,
   "metadata": {},
   "outputs": [],
   "source": [
    "import os\n",
    "import textblob\n",
    "\n",
    "class Logger():\n",
    "\n",
    "    def __init__(self, datasetName, header= \".md\"):\n",
    "        self.datasetName = datasetName\n",
    "        self.headerInfo = \"Talk Title,Polarity,Subjectivity\\n\"\n",
    "        self.header = header\n",
    "\n",
    "    def createDataset(self):\n",
    "        files = self.getAllDataFiles()\n",
    "        allScores = self.collectScores(files)\n",
    "        self.logToDataset(allScores)\n",
    "        \n",
    "\n",
    "    def getAllDataFiles(self):\n",
    "        filesInCWD = [file for file in os.listdir('.') if os.path.isfile(file)]\n",
    "        if self.datasetName not in filesInCWD:\n",
    "            self.initDataCSV()\n",
    "\n",
    "        dataFiles = [file for file in filesInCWD if self.isDataFile(file)]\n",
    "        return dataFiles\n",
    "                \n",
    "\n",
    "    def initDataCSV(self):\n",
    "        fileName = self.getFileName()\n",
    "\n",
    "        with open(fileName, 'w+') as file:\n",
    "            file.write(self.headerInfo)\n",
    "\n",
    "    def getFileName(self):\n",
    "        fileName = self.datasetName\n",
    "        if '.csv' not in self.datasetName:\n",
    "            fileName += '.csv'\n",
    "        return fileName\n",
    "\n",
    "\n",
    "    def isDataFile(self, fileName):\n",
    "        if fileName[-len(self.header):] == self.header:\n",
    "            return True\n",
    "        else:\n",
    "            return False\n",
    "    \n",
    "    def collectScores(self, files):\n",
    "        scores = [self.collectScore(file) for file in files]\n",
    "        return scores\n",
    "\n",
    "    def collectScore(self, fileName):\n",
    "        with open(fileName, 'r') as file:\n",
    "            scores = textblob.TextBlob(file.read())\n",
    "            polarity = str(round(scores.sentiment.polarity, 3))\n",
    "            subjectivity = str(round(scores.sentiment.subjectivity, 3))\n",
    "        return [fileName[:-len(self.header)], polarity, subjectivity]\n",
    "\n",
    "    def logToDataset(self, scores):\n",
    "        with open(self.getFileName(), 'a') as file:\n",
    "            for fileScore in scores:\n",
    "                file.write(','.join(fileScore) + \"\\n\")\n",
    "\n",
    "    \n",
    "if __name__ == \"__main__\":\n",
    "    outputName = \"testDataSet.csv\"\n",
    "    dataLogger = Logger(outputName)\n",
    "    dataLogger.createDataset()"
   ]
  },
  {
   "cell_type": "code",
   "execution_count": 15,
   "metadata": {},
   "outputs": [
    {
     "name": "stdout",
     "output_type": "stream",
     "text": [
      "Gathering gender data and adding it to data set...\n",
      "Current number of data points is 2550\n",
      "Dropping unknown genders from data set...\n",
      "After dropping, there are 2225 data points\n",
      "Labels converted to <class 'numpy.ndarray'>\n"
     ]
    }
   ],
   "source": [
    "import gender_guesser.detector as gender\n",
    "\n",
    "genDetector = gender.Detector()\n",
    "speaker_names = dfA.main_speaker.tolist()\n",
    "\n",
    "print ('Gathering gender data and adding it to data set...')\n",
    "\n",
    "# Get gender data\n",
    "first_names = []\n",
    "genders = []\n",
    "for name in speaker_names:\n",
    "    first_last = name.split(' ')\n",
    "    first = first_last[0]\n",
    "    first_names.append(first)\n",
    "    genders.append(genDetector.get_gender(first))\n",
    "\n",
    "for i, gender in enumerate(genders):\n",
    "    if gender == 'mostly_male':\n",
    "        genders[i] = 'male'\n",
    "    if gender == 'mostly_female':\n",
    "        genders[i] = 'female'\n",
    "    if gender == 'andy':\n",
    "        genders[i] = 'unknown'\n",
    "\n",
    "print(\"Current number of data points is {}\".format(dfA.shape[0]))\n",
    "print(\"Dropping unknown genders from data set...\")\n",
    "dfA['gender'] = genders\n",
    "dfA = dfA[dfA.gender != 'unknown']\n",
    "print(\"After dropping, there are {} data points\".format(dfA.shape[0]))\n",
    "\n",
    "# Convert to 0 and 1\n",
    "#pd.Series(np.where(dfA.gender.values == 'male', 1, 0), dfA.index)\n",
    "dfA.replace('male', 0, inplace=True)\n",
    "dfA.replace('female', 1, inplace=True)\n",
    "print(\"Labels converted to {}\".format(type(dfA.gender.values)))\n"
   ]
  },
  {
   "cell_type": "code",
   "execution_count": 16,
   "metadata": {
    "scrolled": false
   },
   "outputs": [
    {
     "data": {
      "image/png": "[encoded data removed]",
      "text/plain": [
       "<Figure size 432x288 with 2 Axes>"
      ]
     },
     "metadata": {
      "needs_background": "light"
     },
     "output_type": "display_data"
    }
   ],
   "source": [
    "#taking a glance at pairwise relationships in the metadata\n",
    "\n",
    "correlations = dfA.corr()\n",
    "_ = sns.heatmap(correlations)\n",
    "_ = plt.title('Correlations Between TED Talk Features')\n",
    "plt.show()"
   ]
  },
  {
   "cell_type": "code",
   "execution_count": 17,
   "metadata": {},
   "outputs": [
    {
     "data": {
      "text/html": [
       "<div>\n",
       "<style scoped>\n",
       "    .dataframe tbody tr th:only-of-type {\n",
       "        vertical-align: middle;\n",
       "    }\n",
       "\n",
       "    .dataframe tbody tr th {\n",
       "        vertical-align: top;\n",
       "    }\n",
       "\n",
       "    .dataframe thead th {\n",
       "        text-align: right;\n",
       "    }\n",
       "</style>\n",
       "<table border=\"1\" class=\"dataframe\">\n",
       "  <thead>\n",
       "    <tr style=\"text-align: right;\">\n",
       "      <th></th>\n",
       "      <th>transcript</th>\n",
       "      <th>url</th>\n",
       "      <th>clean_transcripts</th>\n",
       "      <th>comments</th>\n",
       "      <th>description</th>\n",
       "      <th>duration</th>\n",
       "      <th>event</th>\n",
       "      <th>film_date</th>\n",
       "      <th>languages</th>\n",
       "      <th>main_speaker</th>\n",
       "      <th>...</th>\n",
       "      <th>OK</th>\n",
       "      <th>Inspiring</th>\n",
       "      <th>Beautiful</th>\n",
       "      <th>Confusing</th>\n",
       "      <th>Funny</th>\n",
       "      <th>Persuasive</th>\n",
       "      <th>Informative</th>\n",
       "      <th>Ingenious</th>\n",
       "      <th>Unconvincing</th>\n",
       "      <th>Jaw-dropping</th>\n",
       "    </tr>\n",
       "  </thead>\n",
       "  <tbody>\n",
       "    <tr>\n",
       "      <th>0</th>\n",
       "      <td>Good morning. How are you?(Laughter)It's been ...</td>\n",
       "      <td>https://www.ted.com/talks/ken_robinson_says_sc...</td>\n",
       "      <td>good morninghow are you\\r\\r\\nlaughter\\r\\r\\nits...</td>\n",
       "      <td>4553</td>\n",
       "      <td>Sir Ken Robinson makes an entertaining and pro...</td>\n",
       "      <td>1164</td>\n",
       "      <td>TED2006</td>\n",
       "      <td>1140825600</td>\n",
       "      <td>60</td>\n",
       "      <td>Ken Robinson</td>\n",
       "      <td>...</td>\n",
       "      <td>1174</td>\n",
       "      <td>24924</td>\n",
       "      <td>4573</td>\n",
       "      <td>242</td>\n",
       "      <td>19645</td>\n",
       "      <td>10704</td>\n",
       "      <td>7346</td>\n",
       "      <td>6073</td>\n",
       "      <td>300</td>\n",
       "      <td>4439</td>\n",
       "    </tr>\n",
       "    <tr>\n",
       "      <th>1</th>\n",
       "      <td>Thank you so much, Chris. And it's truly a gre...</td>\n",
       "      <td>https://www.ted.com/talks/al_gore_on_averting_...</td>\n",
       "      <td>thank you so much, chrisand its truly a great ...</td>\n",
       "      <td>265</td>\n",
       "      <td>With the same humor and humanity he exuded in ...</td>\n",
       "      <td>977</td>\n",
       "      <td>TED2006</td>\n",
       "      <td>1140825600</td>\n",
       "      <td>43</td>\n",
       "      <td>Al Gore</td>\n",
       "      <td>...</td>\n",
       "      <td>203</td>\n",
       "      <td>413</td>\n",
       "      <td>58</td>\n",
       "      <td>62</td>\n",
       "      <td>544</td>\n",
       "      <td>268</td>\n",
       "      <td>443</td>\n",
       "      <td>56</td>\n",
       "      <td>258</td>\n",
       "      <td>116</td>\n",
       "    </tr>\n",
       "    <tr>\n",
       "      <th>2</th>\n",
       "      <td>(Music: \"The Sound of Silence,\" Simon &amp; Garfun...</td>\n",
       "      <td>https://www.ted.com/talks/david_pogue_says_sim...</td>\n",
       "      <td>music: the sound of silence, simon &amp; garfunkel...</td>\n",
       "      <td>124</td>\n",
       "      <td>New York Times columnist David Pogue takes aim...</td>\n",
       "      <td>1286</td>\n",
       "      <td>TED2006</td>\n",
       "      <td>1140739200</td>\n",
       "      <td>26</td>\n",
       "      <td>David Pogue</td>\n",
       "      <td>...</td>\n",
       "      <td>146</td>\n",
       "      <td>230</td>\n",
       "      <td>60</td>\n",
       "      <td>27</td>\n",
       "      <td>964</td>\n",
       "      <td>230</td>\n",
       "      <td>395</td>\n",
       "      <td>183</td>\n",
       "      <td>104</td>\n",
       "      <td>54</td>\n",
       "    </tr>\n",
       "    <tr>\n",
       "      <th>3</th>\n",
       "      <td>If you're here today  and I'm very happy that ...</td>\n",
       "      <td>https://www.ted.com/talks/majora_carter_s_tale...</td>\n",
       "      <td>if youre here today  and im very happy that yo...</td>\n",
       "      <td>200</td>\n",
       "      <td>In an emotionally charged talk, MacArthur-winn...</td>\n",
       "      <td>1116</td>\n",
       "      <td>TED2006</td>\n",
       "      <td>1140912000</td>\n",
       "      <td>35</td>\n",
       "      <td>Majora Carter</td>\n",
       "      <td>...</td>\n",
       "      <td>85</td>\n",
       "      <td>1070</td>\n",
       "      <td>291</td>\n",
       "      <td>32</td>\n",
       "      <td>59</td>\n",
       "      <td>460</td>\n",
       "      <td>380</td>\n",
       "      <td>105</td>\n",
       "      <td>36</td>\n",
       "      <td>230</td>\n",
       "    </tr>\n",
       "    <tr>\n",
       "      <th>4</th>\n",
       "      <td>About 10 years ago, I took on the task to teac...</td>\n",
       "      <td>https://www.ted.com/talks/hans_rosling_shows_t...</td>\n",
       "      <td>about 10 years ago, i took on the task to teac...</td>\n",
       "      <td>593</td>\n",
       "      <td>You've never seen data presented like this. Wi...</td>\n",
       "      <td>1190</td>\n",
       "      <td>TED2006</td>\n",
       "      <td>1140566400</td>\n",
       "      <td>48</td>\n",
       "      <td>Hans Rosling</td>\n",
       "      <td>...</td>\n",
       "      <td>248</td>\n",
       "      <td>2893</td>\n",
       "      <td>942</td>\n",
       "      <td>72</td>\n",
       "      <td>1390</td>\n",
       "      <td>2542</td>\n",
       "      <td>5433</td>\n",
       "      <td>3202</td>\n",
       "      <td>67</td>\n",
       "      <td>3736</td>\n",
       "    </tr>\n",
       "  </tbody>\n",
       "</table>\n",
       "<p>5 rows × 34 columns</p>\n",
       "</div>"
      ],
      "text/plain": [
       "                                          transcript  \\\n",
       "0  Good morning. How are you?(Laughter)It's been ...   \n",
       "1  Thank you so much, Chris. And it's truly a gre...   \n",
       "2  (Music: \"The Sound of Silence,\" Simon & Garfun...   \n",
       "3  If you're here today  and I'm very happy that ...   \n",
       "4  About 10 years ago, I took on the task to teac...   \n",
       "\n",
       "                                                 url  \\\n",
       "0  https://www.ted.com/talks/ken_robinson_says_sc...   \n",
       "1  https://www.ted.com/talks/al_gore_on_averting_...   \n",
       "2  https://www.ted.com/talks/david_pogue_says_sim...   \n",
       "3  https://www.ted.com/talks/majora_carter_s_tale...   \n",
       "4  https://www.ted.com/talks/hans_rosling_shows_t...   \n",
       "\n",
       "                                   clean_transcripts  comments  \\\n",
       "0  good morninghow are you\\r\\r\\nlaughter\\r\\r\\nits...      4553   \n",
       "1  thank you so much, chrisand its truly a great ...       265   \n",
       "2  music: the sound of silence, simon & garfunkel...       124   \n",
       "3  if youre here today  and im very happy that yo...       200   \n",
       "4  about 10 years ago, i took on the task to teac...       593   \n",
       "\n",
       "                                         description  duration    event  \\\n",
       "0  Sir Ken Robinson makes an entertaining and pro...      1164  TED2006   \n",
       "1  With the same humor and humanity he exuded in ...       977  TED2006   \n",
       "2  New York Times columnist David Pogue takes aim...      1286  TED2006   \n",
       "3  In an emotionally charged talk, MacArthur-winn...      1116  TED2006   \n",
       "4  You've never seen data presented like this. Wi...      1190  TED2006   \n",
       "\n",
       "    film_date  languages   main_speaker      ...         OK  Inspiring  \\\n",
       "0  1140825600         60   Ken Robinson      ...       1174      24924   \n",
       "1  1140825600         43        Al Gore      ...        203        413   \n",
       "2  1140739200         26    David Pogue      ...        146        230   \n",
       "3  1140912000         35  Majora Carter      ...         85       1070   \n",
       "4  1140566400         48   Hans Rosling      ...        248       2893   \n",
       "\n",
       "   Beautiful Confusing  Funny Persuasive Informative Ingenious Unconvincing  \\\n",
       "0       4573       242  19645      10704        7346      6073          300   \n",
       "1         58        62    544        268         443        56          258   \n",
       "2         60        27    964        230         395       183          104   \n",
       "3        291        32     59        460         380       105           36   \n",
       "4        942        72   1390       2542        5433      3202           67   \n",
       "\n",
       "   Jaw-dropping  \n",
       "0          4439  \n",
       "1           116  \n",
       "2            54  \n",
       "3           230  \n",
       "4          3736  \n",
       "\n",
       "[5 rows x 34 columns]"
      ]
     },
     "execution_count": 17,
     "metadata": {},
     "output_type": "execute_result"
    }
   ],
   "source": [
    "#creating individual rating categories. These will show how many times this rating has been given to each Ted Talk.\n",
    "\n",
    "rating_counts = {'Longwinded':[],'Courageous':[],'Obnoxious':[],'Fascinating':[],'OK':[],'Inspiring':[],'Beautiful':[],\n",
    "                'Confusing':[],'Funny':[],'Persuasive':[],'Informative':[],'Ingenious':[],'Unconvincing':[],'Jaw-dropping':[]}\n",
    "\n",
    "#itertuples iterates the steps through all rows\n",
    "for row in dfB.itertuples():\n",
    "    ratings = eval(row.ratings)\n",
    "    done_ratings = set()\n",
    "    \n",
    "    for rating in ratings: \n",
    "        name = rating['name']\n",
    "        done_ratings.add(name) # Add to the set of ratings we've seen this talk tagged as\n",
    "        count = rating['count']\n",
    "        rating_counts[name].append(count)\n",
    "        \n",
    "    for key in rating_counts.keys():\n",
    "        if key not in done_ratings:\n",
    "            rating_counts[key].append(0)  # The tag wasn't used for the talk by anyone, 0 is the count\n",
    "    done_ratings.clear() \n",
    "\n",
    "# Add rating counts to dictionary and remove the old ratings category \n",
    "for key,value in rating_counts.items():\n",
    "    dfB[key] = value\n",
    "_ = dfB.drop(labels = ['ratings'],axis=1)\n",
    "dfB.head()"
   ]
  },
  {
   "cell_type": "code",
   "execution_count": 18,
   "metadata": {
    "scrolled": true
   },
   "outputs": [
    {
     "name": "stderr",
     "output_type": "stream",
     "text": [
      "C:\\ProgramData\\Anaconda3\\lib\\site-packages\\scipy\\stats\\stats.py:1713: FutureWarning: Using a non-tuple sequence for multidimensional indexing is deprecated; use `arr[tuple(seq)]` instead of `arr[seq]`. In the future this will be interpreted as an array index, `arr[np.array(seq)]`, which will result either in an error or a different result.\n",
      "  return np.add.reduce(sorted[indexer] * weights, axis=axis) / sumval\n"
     ]
    },
    {
     "ename": "KeyError",
     "evalue": "'subjectivity'",
     "output_type": "error",
     "traceback": [
      "\u001b[1;31m---------------------------------------------------------------------------\u001b[0m",
      "\u001b[1;31mKeyError\u001b[0m                                  Traceback (most recent call last)",
      "\u001b[1;32mC:\\ProgramData\\Anaconda3\\lib\\site-packages\\pandas\\core\\indexes\\base.py\u001b[0m in \u001b[0;36mget_loc\u001b[1;34m(self, key, method, tolerance)\u001b[0m\n\u001b[0;32m   3077\u001b[0m             \u001b[1;32mtry\u001b[0m\u001b[1;33m:\u001b[0m\u001b[1;33m\u001b[0m\u001b[0m\n\u001b[1;32m-> 3078\u001b[1;33m                 \u001b[1;32mreturn\u001b[0m \u001b[0mself\u001b[0m\u001b[1;33m.\u001b[0m\u001b[0m_engine\u001b[0m\u001b[1;33m.\u001b[0m\u001b[0mget_loc\u001b[0m\u001b[1;33m(\u001b[0m\u001b[0mkey\u001b[0m\u001b[1;33m)\u001b[0m\u001b[1;33m\u001b[0m\u001b[0m\n\u001b[0m\u001b[0;32m   3079\u001b[0m             \u001b[1;32mexcept\u001b[0m \u001b[0mKeyError\u001b[0m\u001b[1;33m:\u001b[0m\u001b[1;33m\u001b[0m\u001b[0m\n",
      "\u001b[1;32mpandas\\_libs\\index.pyx\u001b[0m in \u001b[0;36mpandas._libs.index.IndexEngine.get_loc\u001b[1;34m()\u001b[0m\n",
      "\u001b[1;32mpandas\\_libs\\index.pyx\u001b[0m in \u001b[0;36mpandas._libs.index.IndexEngine.get_loc\u001b[1;34m()\u001b[0m\n",
      "\u001b[1;32mpandas\\_libs\\hashtable_class_helper.pxi\u001b[0m in \u001b[0;36mpandas._libs.hashtable.PyObjectHashTable.get_item\u001b[1;34m()\u001b[0m\n",
      "\u001b[1;32mpandas\\_libs\\hashtable_class_helper.pxi\u001b[0m in \u001b[0;36mpandas._libs.hashtable.PyObjectHashTable.get_item\u001b[1;34m()\u001b[0m\n",
      "\u001b[1;31mKeyError\u001b[0m: 'subjectivity'",
      "\nDuring handling of the above exception, another exception occurred:\n",
      "\u001b[1;31mKeyError\u001b[0m                                  Traceback (most recent call last)",
      "\u001b[1;32m<ipython-input-18-6e68999fdc90>\u001b[0m in \u001b[0;36m<module>\u001b[1;34m()\u001b[0m\n\u001b[0;32m     11\u001b[0m \u001b[1;33m\u001b[0m\u001b[0m\n\u001b[0;32m     12\u001b[0m \u001b[1;31m# Subjectivity\u001b[0m\u001b[1;33m\u001b[0m\u001b[1;33m\u001b[0m\u001b[0m\n\u001b[1;32m---> 13\u001b[1;33m \u001b[0m_\u001b[0m \u001b[1;33m=\u001b[0m \u001b[0msns\u001b[0m\u001b[1;33m.\u001b[0m\u001b[0mregplot\u001b[0m\u001b[1;33m(\u001b[0m\u001b[0mx\u001b[0m\u001b[1;33m=\u001b[0m\u001b[1;34m'published_date'\u001b[0m\u001b[1;33m,\u001b[0m\u001b[0my\u001b[0m\u001b[1;33m=\u001b[0m\u001b[1;34m'subjectivity'\u001b[0m\u001b[1;33m,\u001b[0m\u001b[0mdata\u001b[0m\u001b[1;33m=\u001b[0m\u001b[0mdfB\u001b[0m\u001b[1;33m,\u001b[0m\u001b[0max\u001b[0m\u001b[1;33m=\u001b[0m\u001b[0maxes\u001b[0m\u001b[1;33m[\u001b[0m\u001b[1;36m0\u001b[0m\u001b[1;33m,\u001b[0m\u001b[1;36m2\u001b[0m\u001b[1;33m]\u001b[0m\u001b[1;33m)\u001b[0m\u001b[1;33m\u001b[0m\u001b[0m\n\u001b[0m\u001b[0;32m     14\u001b[0m \u001b[0m_\u001b[0m \u001b[1;33m=\u001b[0m \u001b[0maxes\u001b[0m\u001b[1;33m[\u001b[0m\u001b[1;36m0\u001b[0m\u001b[1;33m,\u001b[0m\u001b[1;36m2\u001b[0m\u001b[1;33m]\u001b[0m\u001b[1;33m.\u001b[0m\u001b[0mset_title\u001b[0m\u001b[1;33m(\u001b[0m\u001b[1;34m'TED Talk Subjectivity Over Time'\u001b[0m\u001b[1;33m)\u001b[0m\u001b[1;33m\u001b[0m\u001b[0m\n\u001b[0;32m     15\u001b[0m \u001b[1;33m\u001b[0m\u001b[0m\n",
      "\u001b[1;32mC:\\ProgramData\\Anaconda3\\lib\\site-packages\\seaborn\\regression.py\u001b[0m in \u001b[0;36mregplot\u001b[1;34m(x, y, data, x_estimator, x_bins, x_ci, scatter, fit_reg, ci, n_boot, units, order, logistic, lowess, robust, logx, x_partial, y_partial, truncate, dropna, x_jitter, y_jitter, label, color, marker, scatter_kws, line_kws, ax)\u001b[0m\n\u001b[0;32m    779\u001b[0m                                  \u001b[0morder\u001b[0m\u001b[1;33m,\u001b[0m \u001b[0mlogistic\u001b[0m\u001b[1;33m,\u001b[0m \u001b[0mlowess\u001b[0m\u001b[1;33m,\u001b[0m \u001b[0mrobust\u001b[0m\u001b[1;33m,\u001b[0m \u001b[0mlogx\u001b[0m\u001b[1;33m,\u001b[0m\u001b[1;33m\u001b[0m\u001b[0m\n\u001b[0;32m    780\u001b[0m                                  \u001b[0mx_partial\u001b[0m\u001b[1;33m,\u001b[0m \u001b[0my_partial\u001b[0m\u001b[1;33m,\u001b[0m \u001b[0mtruncate\u001b[0m\u001b[1;33m,\u001b[0m \u001b[0mdropna\u001b[0m\u001b[1;33m,\u001b[0m\u001b[1;33m\u001b[0m\u001b[0m\n\u001b[1;32m--> 781\u001b[1;33m                                  x_jitter, y_jitter, color, label)\n\u001b[0m\u001b[0;32m    782\u001b[0m \u001b[1;33m\u001b[0m\u001b[0m\n\u001b[0;32m    783\u001b[0m     \u001b[1;32mif\u001b[0m \u001b[0max\u001b[0m \u001b[1;32mis\u001b[0m \u001b[1;32mNone\u001b[0m\u001b[1;33m:\u001b[0m\u001b[1;33m\u001b[0m\u001b[0m\n",
      "\u001b[1;32mC:\\ProgramData\\Anaconda3\\lib\\site-packages\\seaborn\\regression.py\u001b[0m in \u001b[0;36m__init__\u001b[1;34m(self, x, y, data, x_estimator, x_bins, x_ci, scatter, fit_reg, ci, n_boot, units, order, logistic, lowess, robust, logx, x_partial, y_partial, truncate, dropna, x_jitter, y_jitter, color, label)\u001b[0m\n\u001b[0;32m    103\u001b[0m         \u001b[1;31m# Extract the data vals from the arguments or passed dataframe\u001b[0m\u001b[1;33m\u001b[0m\u001b[1;33m\u001b[0m\u001b[0m\n\u001b[0;32m    104\u001b[0m         self.establish_variables(data, x=x, y=y, units=units,\n\u001b[1;32m--> 105\u001b[1;33m                                  x_partial=x_partial, y_partial=y_partial)\n\u001b[0m\u001b[0;32m    106\u001b[0m \u001b[1;33m\u001b[0m\u001b[0m\n\u001b[0;32m    107\u001b[0m         \u001b[1;31m# Drop null observations\u001b[0m\u001b[1;33m\u001b[0m\u001b[1;33m\u001b[0m\u001b[0m\n",
      "\u001b[1;32mC:\\ProgramData\\Anaconda3\\lib\\site-packages\\seaborn\\regression.py\u001b[0m in \u001b[0;36mestablish_variables\u001b[1;34m(self, data, **kws)\u001b[0m\n\u001b[0;32m     46\u001b[0m         \u001b[1;32mfor\u001b[0m \u001b[0mvar\u001b[0m\u001b[1;33m,\u001b[0m \u001b[0mval\u001b[0m \u001b[1;32min\u001b[0m \u001b[0mkws\u001b[0m\u001b[1;33m.\u001b[0m\u001b[0mitems\u001b[0m\u001b[1;33m(\u001b[0m\u001b[1;33m)\u001b[0m\u001b[1;33m:\u001b[0m\u001b[1;33m\u001b[0m\u001b[0m\n\u001b[0;32m     47\u001b[0m             \u001b[1;32mif\u001b[0m \u001b[0misinstance\u001b[0m\u001b[1;33m(\u001b[0m\u001b[0mval\u001b[0m\u001b[1;33m,\u001b[0m \u001b[0mstring_types\u001b[0m\u001b[1;33m)\u001b[0m\u001b[1;33m:\u001b[0m\u001b[1;33m\u001b[0m\u001b[0m\n\u001b[1;32m---> 48\u001b[1;33m                 \u001b[0msetattr\u001b[0m\u001b[1;33m(\u001b[0m\u001b[0mself\u001b[0m\u001b[1;33m,\u001b[0m \u001b[0mvar\u001b[0m\u001b[1;33m,\u001b[0m \u001b[0mdata\u001b[0m\u001b[1;33m[\u001b[0m\u001b[0mval\u001b[0m\u001b[1;33m]\u001b[0m\u001b[1;33m)\u001b[0m\u001b[1;33m\u001b[0m\u001b[0m\n\u001b[0m\u001b[0;32m     49\u001b[0m             \u001b[1;32melif\u001b[0m \u001b[0misinstance\u001b[0m\u001b[1;33m(\u001b[0m\u001b[0mval\u001b[0m\u001b[1;33m,\u001b[0m \u001b[0mlist\u001b[0m\u001b[1;33m)\u001b[0m\u001b[1;33m:\u001b[0m\u001b[1;33m\u001b[0m\u001b[0m\n\u001b[0;32m     50\u001b[0m                 \u001b[0msetattr\u001b[0m\u001b[1;33m(\u001b[0m\u001b[0mself\u001b[0m\u001b[1;33m,\u001b[0m \u001b[0mvar\u001b[0m\u001b[1;33m,\u001b[0m \u001b[0mnp\u001b[0m\u001b[1;33m.\u001b[0m\u001b[0masarray\u001b[0m\u001b[1;33m(\u001b[0m\u001b[0mval\u001b[0m\u001b[1;33m)\u001b[0m\u001b[1;33m)\u001b[0m\u001b[1;33m\u001b[0m\u001b[0m\n",
      "\u001b[1;32mC:\\ProgramData\\Anaconda3\\lib\\site-packages\\pandas\\core\\frame.py\u001b[0m in \u001b[0;36m__getitem__\u001b[1;34m(self, key)\u001b[0m\n\u001b[0;32m   2686\u001b[0m             \u001b[1;32mreturn\u001b[0m \u001b[0mself\u001b[0m\u001b[1;33m.\u001b[0m\u001b[0m_getitem_multilevel\u001b[0m\u001b[1;33m(\u001b[0m\u001b[0mkey\u001b[0m\u001b[1;33m)\u001b[0m\u001b[1;33m\u001b[0m\u001b[0m\n\u001b[0;32m   2687\u001b[0m         \u001b[1;32melse\u001b[0m\u001b[1;33m:\u001b[0m\u001b[1;33m\u001b[0m\u001b[0m\n\u001b[1;32m-> 2688\u001b[1;33m             \u001b[1;32mreturn\u001b[0m \u001b[0mself\u001b[0m\u001b[1;33m.\u001b[0m\u001b[0m_getitem_column\u001b[0m\u001b[1;33m(\u001b[0m\u001b[0mkey\u001b[0m\u001b[1;33m)\u001b[0m\u001b[1;33m\u001b[0m\u001b[0m\n\u001b[0m\u001b[0;32m   2689\u001b[0m \u001b[1;33m\u001b[0m\u001b[0m\n\u001b[0;32m   2690\u001b[0m     \u001b[1;32mdef\u001b[0m \u001b[0m_getitem_column\u001b[0m\u001b[1;33m(\u001b[0m\u001b[0mself\u001b[0m\u001b[1;33m,\u001b[0m \u001b[0mkey\u001b[0m\u001b[1;33m)\u001b[0m\u001b[1;33m:\u001b[0m\u001b[1;33m\u001b[0m\u001b[0m\n",
      "\u001b[1;32mC:\\ProgramData\\Anaconda3\\lib\\site-packages\\pandas\\core\\frame.py\u001b[0m in \u001b[0;36m_getitem_column\u001b[1;34m(self, key)\u001b[0m\n\u001b[0;32m   2693\u001b[0m         \u001b[1;31m# get column\u001b[0m\u001b[1;33m\u001b[0m\u001b[1;33m\u001b[0m\u001b[0m\n\u001b[0;32m   2694\u001b[0m         \u001b[1;32mif\u001b[0m \u001b[0mself\u001b[0m\u001b[1;33m.\u001b[0m\u001b[0mcolumns\u001b[0m\u001b[1;33m.\u001b[0m\u001b[0mis_unique\u001b[0m\u001b[1;33m:\u001b[0m\u001b[1;33m\u001b[0m\u001b[0m\n\u001b[1;32m-> 2695\u001b[1;33m             \u001b[1;32mreturn\u001b[0m \u001b[0mself\u001b[0m\u001b[1;33m.\u001b[0m\u001b[0m_get_item_cache\u001b[0m\u001b[1;33m(\u001b[0m\u001b[0mkey\u001b[0m\u001b[1;33m)\u001b[0m\u001b[1;33m\u001b[0m\u001b[0m\n\u001b[0m\u001b[0;32m   2696\u001b[0m \u001b[1;33m\u001b[0m\u001b[0m\n\u001b[0;32m   2697\u001b[0m         \u001b[1;31m# duplicate columns & possible reduce dimensionality\u001b[0m\u001b[1;33m\u001b[0m\u001b[1;33m\u001b[0m\u001b[0m\n",
      "\u001b[1;32mC:\\ProgramData\\Anaconda3\\lib\\site-packages\\pandas\\core\\generic.py\u001b[0m in \u001b[0;36m_get_item_cache\u001b[1;34m(self, item)\u001b[0m\n\u001b[0;32m   2487\u001b[0m         \u001b[0mres\u001b[0m \u001b[1;33m=\u001b[0m \u001b[0mcache\u001b[0m\u001b[1;33m.\u001b[0m\u001b[0mget\u001b[0m\u001b[1;33m(\u001b[0m\u001b[0mitem\u001b[0m\u001b[1;33m)\u001b[0m\u001b[1;33m\u001b[0m\u001b[0m\n\u001b[0;32m   2488\u001b[0m         \u001b[1;32mif\u001b[0m \u001b[0mres\u001b[0m \u001b[1;32mis\u001b[0m \u001b[1;32mNone\u001b[0m\u001b[1;33m:\u001b[0m\u001b[1;33m\u001b[0m\u001b[0m\n\u001b[1;32m-> 2489\u001b[1;33m             \u001b[0mvalues\u001b[0m \u001b[1;33m=\u001b[0m \u001b[0mself\u001b[0m\u001b[1;33m.\u001b[0m\u001b[0m_data\u001b[0m\u001b[1;33m.\u001b[0m\u001b[0mget\u001b[0m\u001b[1;33m(\u001b[0m\u001b[0mitem\u001b[0m\u001b[1;33m)\u001b[0m\u001b[1;33m\u001b[0m\u001b[0m\n\u001b[0m\u001b[0;32m   2490\u001b[0m             \u001b[0mres\u001b[0m \u001b[1;33m=\u001b[0m \u001b[0mself\u001b[0m\u001b[1;33m.\u001b[0m\u001b[0m_box_item_values\u001b[0m\u001b[1;33m(\u001b[0m\u001b[0mitem\u001b[0m\u001b[1;33m,\u001b[0m \u001b[0mvalues\u001b[0m\u001b[1;33m)\u001b[0m\u001b[1;33m\u001b[0m\u001b[0m\n\u001b[0;32m   2491\u001b[0m             \u001b[0mcache\u001b[0m\u001b[1;33m[\u001b[0m\u001b[0mitem\u001b[0m\u001b[1;33m]\u001b[0m \u001b[1;33m=\u001b[0m \u001b[0mres\u001b[0m\u001b[1;33m\u001b[0m\u001b[0m\n",
      "\u001b[1;32mC:\\ProgramData\\Anaconda3\\lib\\site-packages\\pandas\\core\\internals.py\u001b[0m in \u001b[0;36mget\u001b[1;34m(self, item, fastpath)\u001b[0m\n\u001b[0;32m   4113\u001b[0m \u001b[1;33m\u001b[0m\u001b[0m\n\u001b[0;32m   4114\u001b[0m             \u001b[1;32mif\u001b[0m \u001b[1;32mnot\u001b[0m \u001b[0misna\u001b[0m\u001b[1;33m(\u001b[0m\u001b[0mitem\u001b[0m\u001b[1;33m)\u001b[0m\u001b[1;33m:\u001b[0m\u001b[1;33m\u001b[0m\u001b[0m\n\u001b[1;32m-> 4115\u001b[1;33m                 \u001b[0mloc\u001b[0m \u001b[1;33m=\u001b[0m \u001b[0mself\u001b[0m\u001b[1;33m.\u001b[0m\u001b[0mitems\u001b[0m\u001b[1;33m.\u001b[0m\u001b[0mget_loc\u001b[0m\u001b[1;33m(\u001b[0m\u001b[0mitem\u001b[0m\u001b[1;33m)\u001b[0m\u001b[1;33m\u001b[0m\u001b[0m\n\u001b[0m\u001b[0;32m   4116\u001b[0m             \u001b[1;32melse\u001b[0m\u001b[1;33m:\u001b[0m\u001b[1;33m\u001b[0m\u001b[0m\n\u001b[0;32m   4117\u001b[0m                 \u001b[0mindexer\u001b[0m \u001b[1;33m=\u001b[0m \u001b[0mnp\u001b[0m\u001b[1;33m.\u001b[0m\u001b[0marange\u001b[0m\u001b[1;33m(\u001b[0m\u001b[0mlen\u001b[0m\u001b[1;33m(\u001b[0m\u001b[0mself\u001b[0m\u001b[1;33m.\u001b[0m\u001b[0mitems\u001b[0m\u001b[1;33m)\u001b[0m\u001b[1;33m)\u001b[0m\u001b[1;33m[\u001b[0m\u001b[0misna\u001b[0m\u001b[1;33m(\u001b[0m\u001b[0mself\u001b[0m\u001b[1;33m.\u001b[0m\u001b[0mitems\u001b[0m\u001b[1;33m)\u001b[0m\u001b[1;33m]\u001b[0m\u001b[1;33m\u001b[0m\u001b[0m\n",
      "\u001b[1;32mC:\\ProgramData\\Anaconda3\\lib\\site-packages\\pandas\\core\\indexes\\base.py\u001b[0m in \u001b[0;36mget_loc\u001b[1;34m(self, key, method, tolerance)\u001b[0m\n\u001b[0;32m   3078\u001b[0m                 \u001b[1;32mreturn\u001b[0m \u001b[0mself\u001b[0m\u001b[1;33m.\u001b[0m\u001b[0m_engine\u001b[0m\u001b[1;33m.\u001b[0m\u001b[0mget_loc\u001b[0m\u001b[1;33m(\u001b[0m\u001b[0mkey\u001b[0m\u001b[1;33m)\u001b[0m\u001b[1;33m\u001b[0m\u001b[0m\n\u001b[0;32m   3079\u001b[0m             \u001b[1;32mexcept\u001b[0m \u001b[0mKeyError\u001b[0m\u001b[1;33m:\u001b[0m\u001b[1;33m\u001b[0m\u001b[0m\n\u001b[1;32m-> 3080\u001b[1;33m                 \u001b[1;32mreturn\u001b[0m \u001b[0mself\u001b[0m\u001b[1;33m.\u001b[0m\u001b[0m_engine\u001b[0m\u001b[1;33m.\u001b[0m\u001b[0mget_loc\u001b[0m\u001b[1;33m(\u001b[0m\u001b[0mself\u001b[0m\u001b[1;33m.\u001b[0m\u001b[0m_maybe_cast_indexer\u001b[0m\u001b[1;33m(\u001b[0m\u001b[0mkey\u001b[0m\u001b[1;33m)\u001b[0m\u001b[1;33m)\u001b[0m\u001b[1;33m\u001b[0m\u001b[0m\n\u001b[0m\u001b[0;32m   3081\u001b[0m \u001b[1;33m\u001b[0m\u001b[0m\n\u001b[0;32m   3082\u001b[0m         \u001b[0mindexer\u001b[0m \u001b[1;33m=\u001b[0m \u001b[0mself\u001b[0m\u001b[1;33m.\u001b[0m\u001b[0mget_indexer\u001b[0m\u001b[1;33m(\u001b[0m\u001b[1;33m[\u001b[0m\u001b[0mkey\u001b[0m\u001b[1;33m]\u001b[0m\u001b[1;33m,\u001b[0m \u001b[0mmethod\u001b[0m\u001b[1;33m=\u001b[0m\u001b[0mmethod\u001b[0m\u001b[1;33m,\u001b[0m \u001b[0mtolerance\u001b[0m\u001b[1;33m=\u001b[0m\u001b[0mtolerance\u001b[0m\u001b[1;33m)\u001b[0m\u001b[1;33m\u001b[0m\u001b[0m\n",
      "\u001b[1;32mpandas\\_libs\\index.pyx\u001b[0m in \u001b[0;36mpandas._libs.index.IndexEngine.get_loc\u001b[1;34m()\u001b[0m\n",
      "\u001b[1;32mpandas\\_libs\\index.pyx\u001b[0m in \u001b[0;36mpandas._libs.index.IndexEngine.get_loc\u001b[1;34m()\u001b[0m\n",
      "\u001b[1;32mpandas\\_libs\\hashtable_class_helper.pxi\u001b[0m in \u001b[0;36mpandas._libs.hashtable.PyObjectHashTable.get_item\u001b[1;34m()\u001b[0m\n",
      "\u001b[1;32mpandas\\_libs\\hashtable_class_helper.pxi\u001b[0m in \u001b[0;36mpandas._libs.hashtable.PyObjectHashTable.get_item\u001b[1;34m()\u001b[0m\n",
      "\u001b[1;31mKeyError\u001b[0m: 'subjectivity'"
     ]
    },
    {
     "data": {
      "image/png": "[encoded data removed]",
      "text/plain": [
       "<Figure size 1440x864 with 6 Axes>"
      ]
     },
     "metadata": {
      "needs_background": "light"
     },
     "output_type": "display_data"
    }
   ],
   "source": [
    "#visualizing some of the metadate across time for all talks\n",
    "fig, axes = plt.subplots(nrows=2, ncols=3, figsize=(20, 12))\n",
    "\n",
    "# Views\n",
    "_ = sns.regplot(x='published_date',y='views',data=dfB,ax=axes[0,0])\n",
    "_ = axes[0,0].set_title('TED Talk Views Over Time')\n",
    "\n",
    "# Comments\n",
    "_ = sns.regplot(x='published_date',y='comments',data=dfB,ax=axes[0,1])\n",
    "_ = axes[0,1].set_title('TED Talk Comments Over Time')\n",
    "\n",
    "# Subjectivity\n",
    "_ = sns.regplot(x='published_date',y='subjectivity',data=dfB,ax=axes[0,2])\n",
    "_ = axes[0,2].set_title('TED Talk Subjectivity Over Time')\n",
    "\n",
    "# Duration \n",
    "_ = sns.regplot(x='published_date',y='duration',data=dfB,ax=axes[1,0])\n",
    "_ = axes[1,0].set_title('TED Talk Duration Over Time')\n",
    "\n",
    "# Polarity\n",
    "_ = sns.regplot(x='published_date',y='polarity',data=dfB,ax=axes[1,1])\n",
    "_ = axes[1,1].set_title('TED Talk Polarity Over Time')\n"
   ]
  },
  {
   "cell_type": "code",
   "execution_count": 19,
   "metadata": {},
   "outputs": [
    {
     "data": {
      "image/png": "[encoded data removed]",
      "text/plain": [
       "<Figure size 1296x432 with 1 Axes>"
      ]
     },
     "metadata": {
      "needs_background": "light"
     },
     "output_type": "display_data"
    }
   ],
   "source": [
    "#Visualizing overall trends in how ratings are designated by viewers (includes both genders)\n",
    "\n",
    "total_counts = []\n",
    "for k,v in rating_counts.items():\n",
    "    total_counts.append(np.sum(v))\n",
    "    \n",
    "_ = fig, axes = plt.subplots(nrows=1, ncols=1, figsize=(18, 6))\n",
    "_ = sns.barplot(x = list(rating_counts.keys()),y=total_counts,ax = axes)\n",
    "_ = plt.title('Distribution of TED Talk Ratings')\n",
    "plt.show()"
   ]
  },
  {
   "cell_type": "code",
   "execution_count": 20,
   "metadata": {},
   "outputs": [],
   "source": [
    "#getting the meaningful words out of the transcripts\n",
    "def getWords(df,removeStopWords):\n",
    "    words = []\n",
    "    for row in df.itertuples():\n",
    "        words.extend(row.clean_transcripts.split())\n",
    "    \n",
    "    # Removing Stopwords ('the', 'it', 'is', 'and', etc)\n",
    "    if removeStopWords:\n",
    "        stopWords = set(stopwords.words('english'))\n",
    "        print(\"Removing the stop words... \")\n",
    "        \n",
    "        filteredWords =[]\n",
    "        for word in words: \n",
    "            if word not in stopWords:\n",
    "                filteredWords.append(word)\n",
    "                \n",
    "        return filteredWords\n",
    "    \n",
    "    return words"
   ]
  },
  {
   "cell_type": "code",
   "execution_count": 21,
   "metadata": {},
   "outputs": [],
   "source": [
    "def mostFrequentWords(df, numWordsDesired, descriptor='', removeStopWords=True, normalize=False):\n",
    "    # This loops over all rows in the clean transcripts column and \n",
    "    # puts every word in every transcript into a list called words\n",
    "    words = getWords(df,removeStopWords)\n",
    "    \n",
    "    descriptor2=''\n",
    "    if removeStopWords:\n",
    "        descriptor2 = '(excluding stop words like \\'the\\')'\n",
    "    \n",
    "    # Get counts for each word\n",
    "    wordCounts = Counter(words)\n",
    "    print(descriptor,'Number of unique words:',descriptor2,len(wordCounts))\n",
    "\n",
    "    # Grab the most common words\n",
    "    mostCommon = dict()\n",
    "    for word, wordCount in wordCounts.most_common(numWordsDesired):\n",
    "        if normalize:\n",
    "            # Divide by total # of words to get percentage of words said\n",
    "            mostCommon[word] = wordCount/float(len(words)) \n",
    "        else:\n",
    "            mostCommon[word] = wordCount\n",
    "    # Plot a histogram\n",
    "    _ = plt.figure(figsize=(20,10))\n",
    "    _ = sns.barplot(list(mostCommon.keys()), list(mostCommon.values()))\n",
    "    title = ('The '+str(numWordsDesired)+' Most Common Words ' + descriptor2 +\n",
    "             ' In All ' + descriptor +' TED Talk Transcripts')\n",
    "    _ = plt.title(title)\n",
    "    _ = plt.xticks(rotation=300)\n",
    "    plt.show()\n",
    "    \n",
    "    # Return list of most common words\n",
    "    return mostCommon"
   ]
  },
  {
   "cell_type": "code",
   "execution_count": 22,
   "metadata": {
    "scrolled": true
   },
   "outputs": [
    {
     "ename": "AttributeError",
     "evalue": "'float' object has no attribute 'split'",
     "output_type": "error",
     "traceback": [
      "\u001b[1;31m---------------------------------------------------------------------------\u001b[0m",
      "\u001b[1;31mAttributeError\u001b[0m                            Traceback (most recent call last)",
      "\u001b[1;32m<ipython-input-22-a144eb28fbc5>\u001b[0m in \u001b[0;36m<module>\u001b[1;34m()\u001b[0m\n\u001b[0;32m      1\u001b[0m \u001b[1;31m#Showing the top 15 words across both genders\u001b[0m\u001b[1;33m\u001b[0m\u001b[1;33m\u001b[0m\u001b[0m\n\u001b[1;32m----> 2\u001b[1;33m \u001b[0m_\u001b[0m \u001b[1;33m=\u001b[0m \u001b[0mmostFrequentWords\u001b[0m\u001b[1;33m(\u001b[0m\u001b[0mdfB\u001b[0m\u001b[1;33m,\u001b[0m\u001b[1;36m15\u001b[0m\u001b[1;33m)\u001b[0m\u001b[1;33m\u001b[0m\u001b[0m\n\u001b[0m",
      "\u001b[1;32m<ipython-input-21-92bdda092e35>\u001b[0m in \u001b[0;36mmostFrequentWords\u001b[1;34m(df, numWordsDesired, descriptor, removeStopWords, normalize)\u001b[0m\n\u001b[0;32m      2\u001b[0m     \u001b[1;31m# This loops over all rows in the clean transcripts column and\u001b[0m\u001b[1;33m\u001b[0m\u001b[1;33m\u001b[0m\u001b[0m\n\u001b[0;32m      3\u001b[0m     \u001b[1;31m# puts every word in every transcript into a list called words\u001b[0m\u001b[1;33m\u001b[0m\u001b[1;33m\u001b[0m\u001b[0m\n\u001b[1;32m----> 4\u001b[1;33m     \u001b[0mwords\u001b[0m \u001b[1;33m=\u001b[0m \u001b[0mgetWords\u001b[0m\u001b[1;33m(\u001b[0m\u001b[0mdf\u001b[0m\u001b[1;33m,\u001b[0m\u001b[0mremoveStopWords\u001b[0m\u001b[1;33m)\u001b[0m\u001b[1;33m\u001b[0m\u001b[0m\n\u001b[0m\u001b[0;32m      5\u001b[0m \u001b[1;33m\u001b[0m\u001b[0m\n\u001b[0;32m      6\u001b[0m     \u001b[0mdescriptor2\u001b[0m\u001b[1;33m=\u001b[0m\u001b[1;34m''\u001b[0m\u001b[1;33m\u001b[0m\u001b[0m\n",
      "\u001b[1;32m<ipython-input-20-73d708eef747>\u001b[0m in \u001b[0;36mgetWords\u001b[1;34m(df, removeStopWords)\u001b[0m\n\u001b[0;32m      3\u001b[0m     \u001b[0mwords\u001b[0m \u001b[1;33m=\u001b[0m \u001b[1;33m[\u001b[0m\u001b[1;33m]\u001b[0m\u001b[1;33m\u001b[0m\u001b[0m\n\u001b[0;32m      4\u001b[0m     \u001b[1;32mfor\u001b[0m \u001b[0mrow\u001b[0m \u001b[1;32min\u001b[0m \u001b[0mdf\u001b[0m\u001b[1;33m.\u001b[0m\u001b[0mitertuples\u001b[0m\u001b[1;33m(\u001b[0m\u001b[1;33m)\u001b[0m\u001b[1;33m:\u001b[0m\u001b[1;33m\u001b[0m\u001b[0m\n\u001b[1;32m----> 5\u001b[1;33m         \u001b[0mwords\u001b[0m\u001b[1;33m.\u001b[0m\u001b[0mextend\u001b[0m\u001b[1;33m(\u001b[0m\u001b[0mrow\u001b[0m\u001b[1;33m.\u001b[0m\u001b[0mclean_transcripts\u001b[0m\u001b[1;33m.\u001b[0m\u001b[0msplit\u001b[0m\u001b[1;33m(\u001b[0m\u001b[1;33m)\u001b[0m\u001b[1;33m)\u001b[0m\u001b[1;33m\u001b[0m\u001b[0m\n\u001b[0m\u001b[0;32m      6\u001b[0m \u001b[1;33m\u001b[0m\u001b[0m\n\u001b[0;32m      7\u001b[0m     \u001b[1;31m# Removing Stopwords ('the', 'it', 'is', 'and', etc)\u001b[0m\u001b[1;33m\u001b[0m\u001b[1;33m\u001b[0m\u001b[0m\n",
      "\u001b[1;31mAttributeError\u001b[0m: 'float' object has no attribute 'split'"
     ]
    }
   ],
   "source": [
    "#Showing the top 15 words across both genders\n",
    "_ = mostFrequentWords(dfB,15)"
   ]
  },
  {
   "cell_type": "code",
   "execution_count": 23,
   "metadata": {},
   "outputs": [],
   "source": [
    "#introducing the gender guesser library, which will use the first names of speakers to determine gender\n",
    "import gender_guesser.detector as gender\n",
    "\n",
    "genDetector = gender.Detector()\n",
    "speakerNames = dfB.main_speaker.tolist()\n",
    "\n",
    "speakerFirstNames = []\n",
    "genders = []\n",
    "for name in speakerNames:\n",
    "    firstLastName = name.split(' ')\n",
    "    firstName = firstLastName[0]\n",
    "    speakerFirstNames.append(firstName)\n",
    "    genders.append(genDetector.get_gender(firstName))\n",
    "dfB['gender'] = genders"
   ]
  },
  {
   "cell_type": "code",
   "execution_count": 24,
   "metadata": {},
   "outputs": [
    {
     "data": {
      "image/png": "[encoded data removed]",
      "text/plain": [
       "<Figure size 720x360 with 1 Axes>"
      ]
     },
     "metadata": {
      "needs_background": "light"
     },
     "output_type": "display_data"
    }
   ],
   "source": [
    "# Plot a histogram of genders\n",
    "genderCounts = Counter(genders)\n",
    "_ = plt.figure(figsize=(10,5))\n",
    "_ = sns.barplot(list(genderCounts.keys()), list(genderCounts.values()), palette='pastel')\n",
    "title = 'Distribution of TED Talk Speaker Genders'\n",
    "_ = plt.title(title)\n",
    "_ = plt.xticks(rotation=300)\n",
    "plt.show()"
   ]
  },
  {
   "cell_type": "code",
   "execution_count": 25,
   "metadata": {},
   "outputs": [],
   "source": [
    "#Merge male/mostly male, female/mostly female, and androgynous/unknown\n",
    "for i,gender in enumerate(genders):\n",
    "    if gender == 'mostly_male':\n",
    "        genders[i] = 'male'\n",
    "    if gender == 'mostly_female':\n",
    "        genders[i] = 'female'\n",
    "    if gender == 'andy':\n",
    "        genders[i] = 'unknown' "
   ]
  },
  {
   "cell_type": "code",
   "execution_count": 26,
   "metadata": {
    "scrolled": true
   },
   "outputs": [
    {
     "data": {
      "image/png": "[encoded data removed]",
      "text/plain": [
       "<Figure size 720x360 with 1 Axes>"
      ]
     },
     "metadata": {
      "needs_background": "light"
     },
     "output_type": "display_data"
    }
   ],
   "source": [
    "dfB['gender'] = genders\n",
    "# Replot a histogram of genders\n",
    "genderCounts = Counter(genders)\n",
    "_ = plt.figure(figsize=(10,5))\n",
    "_ = sns.barplot(list(genderCounts.keys()), list(genderCounts.values()), palette='pastel')\n",
    "title = 'Distribution of TED Talk Speaker Genders'\n",
    "_ = plt.title(title)\n",
    "_ = plt.xticks(rotation=300)\n",
    "#maeplt.show()"
   ]
  },
  {
   "cell_type": "code",
   "execution_count": 27,
   "metadata": {},
   "outputs": [],
   "source": [
    "#make a new dataframe that omits unknown cases\n",
    "dfB = dfB[dfB[\"gender\"] != 'unknown']"
   ]
  },
  {
   "cell_type": "code",
   "execution_count": 28,
   "metadata": {},
   "outputs": [
    {
     "data": {
      "image/png": "[encoded data removed]",
      "text/plain": [
       "<Figure size 720x360 with 1 Axes>"
      ]
     },
     "metadata": {
      "needs_background": "light"
     },
     "output_type": "display_data"
    }
   ],
   "source": [
    "# Replot a histogram of binary genders\n",
    "genderCounts = Counter(dfB['gender'])\n",
    "_ = plt.figure(figsize=(10,5))\n",
    "_ = sns.barplot(list(genderCounts.keys()), list(genderCounts.values()), palette='pastel')\n",
    "title = 'Distribution of TED Talk Speaker Genders'\n",
    "_ = plt.title(title)\n",
    "_ = plt.xticks(rotation=300)\n",
    "plt.show()"
   ]
  },
  {
   "cell_type": "code",
   "execution_count": 29,
   "metadata": {
    "scrolled": true
   },
   "outputs": [
    {
     "name": "stderr",
     "output_type": "stream",
     "text": [
      "C:\\ProgramData\\Anaconda3\\lib\\site-packages\\ipykernel_launcher.py:2: SettingWithCopyWarning: \n",
      "A value is trying to be set on a copy of a slice from a DataFrame.\n",
      "Try using .loc[row_indexer,col_indexer] = value instead\n",
      "\n",
      "See the caveats in the documentation: http://pandas.pydata.org/pandas-docs/stable/indexing.html#indexing-view-versus-copy\n",
      "  \n"
     ]
    }
   ],
   "source": [
    "genderBinary = label_binarize(dfB.gender.values,classes=['female','male'])\n",
    "dfB['gender'] = genderBinary"
   ]
  },
  {
   "cell_type": "code",
   "execution_count": 31,
   "metadata": {},
   "outputs": [],
   "source": [
    "def getTFIDFvectors(dataframe):\n",
    "    scripts = dataframe['transcript'].tolist()\n",
    "    tfidfGenerator = text.TfidfVectorizer(input= scripts, stop_words= \"english\")\n",
    "    matrix = tfidfGenerator.fit_transform(scripts)\n",
    "    return matrix"
   ]
  },
  {
   "cell_type": "code",
   "execution_count": 32,
   "metadata": {},
   "outputs": [],
   "source": [
    "def simpleGenderClf(dfB,numFolds = 5):\n",
    "    y = dfB['gender'].values # What we're trying to predict\n",
    "    X = dfB.drop(labels=['gender'],axis=1).select_dtypes(include=[np.number]).values # Features we are using\n",
    "        \n",
    "    #Let's do k fold cross validation to see how well this baseline model performs\n",
    "    skf = StratifiedKFold(n_splits=numFolds)\n",
    "    _ = skf.get_n_splits(X, y)\n",
    "    \n",
    "    # These are the metrics we want to record\n",
    "    AUCs = []\n",
    "    FPRs = []\n",
    "    TPRs = []\n",
    "    accuracies = []\n",
    "\n",
    "    for train_index, test_index in skf.split(X, y):\n",
    "        rand = np.random.randint(1, 100) # Why here?\n",
    "        X_train, X_test = X[train_index], X[test_index]\n",
    "        y_train, y_test = y[train_index], y[test_index]\n",
    "        clf = LogisticRegression(penalty='l2', max_iter=1000, random_state=rand)\n",
    "        _ = clf.fit(X_train, y_train)\n",
    "        accuracies.append(clf.score(X_test, y_test))\n",
    "        y_pred = clf.predict(X_test)\n",
    "        y_pred_prob = clf.predict_proba(X_test)\n",
    "        AUC = metrics.roc_auc_score(y_test,y_pred_prob[:,0])\n",
    "        confusion = confusion_matrix(y_test,y_pred)\n",
    "        _ = sns.heatmap(confusion)\n",
    "        #plt.show()\n",
    "        AUCs.append(AUC)\n",
    "        \n",
    "    print('AUC:',np.mean(AUCs))"
   ]
  },
  {
   "cell_type": "code",
   "execution_count": 33,
   "metadata": {},
   "outputs": [
    {
     "ename": "KeyError",
     "evalue": "\"['polarity' 'subjectivity'] not found in axis\"",
     "output_type": "error",
     "traceback": [
      "\u001b[1;31m---------------------------------------------------------------------------\u001b[0m",
      "\u001b[1;31mKeyError\u001b[0m                                  Traceback (most recent call last)",
      "\u001b[1;32m<ipython-input-33-2cd6bd41e554>\u001b[0m in \u001b[0;36m<module>\u001b[1;34m()\u001b[0m\n\u001b[1;32m----> 1\u001b[1;33m \u001b[0moriginalData\u001b[0m \u001b[1;33m=\u001b[0m \u001b[0mdfA\u001b[0m\u001b[1;33m.\u001b[0m\u001b[0mdrop\u001b[0m\u001b[1;33m(\u001b[0m\u001b[0mlabels\u001b[0m\u001b[1;33m=\u001b[0m\u001b[1;33m[\u001b[0m\u001b[1;34m'polarity'\u001b[0m\u001b[1;33m,\u001b[0m\u001b[1;34m'subjectivity'\u001b[0m\u001b[1;33m]\u001b[0m\u001b[1;33m,\u001b[0m \u001b[0maxis\u001b[0m\u001b[1;33m=\u001b[0m\u001b[1;36m1\u001b[0m\u001b[1;33m)\u001b[0m\u001b[1;33m\u001b[0m\u001b[0m\n\u001b[0m\u001b[0;32m      2\u001b[0m \u001b[0mprint\u001b[0m\u001b[1;33m(\u001b[0m\u001b[1;34m'Original Data Scores:'\u001b[0m\u001b[1;33m)\u001b[0m\u001b[1;33m\u001b[0m\u001b[0m\n\u001b[0;32m      3\u001b[0m \u001b[0mprint\u001b[0m\u001b[1;33m(\u001b[0m\u001b[1;34m'|---------------------|\\n|true neg  | false pos|\\n|----------| ---------|\\n|false neg | true pos |\\n|---------------------|'\u001b[0m\u001b[1;33m)\u001b[0m\u001b[1;33m\u001b[0m\u001b[0m\n\u001b[0;32m      4\u001b[0m \u001b[0msimpleGenderClf\u001b[0m\u001b[1;33m(\u001b[0m\u001b[0moriginalData\u001b[0m\u001b[1;33m)\u001b[0m\u001b[1;33m\u001b[0m\u001b[0m\n",
      "\u001b[1;32mC:\\ProgramData\\Anaconda3\\lib\\site-packages\\pandas\\core\\frame.py\u001b[0m in \u001b[0;36mdrop\u001b[1;34m(self, labels, axis, index, columns, level, inplace, errors)\u001b[0m\n\u001b[0;32m   3695\u001b[0m                                            \u001b[0mindex\u001b[0m\u001b[1;33m=\u001b[0m\u001b[0mindex\u001b[0m\u001b[1;33m,\u001b[0m \u001b[0mcolumns\u001b[0m\u001b[1;33m=\u001b[0m\u001b[0mcolumns\u001b[0m\u001b[1;33m,\u001b[0m\u001b[1;33m\u001b[0m\u001b[0m\n\u001b[0;32m   3696\u001b[0m                                            \u001b[0mlevel\u001b[0m\u001b[1;33m=\u001b[0m\u001b[0mlevel\u001b[0m\u001b[1;33m,\u001b[0m \u001b[0minplace\u001b[0m\u001b[1;33m=\u001b[0m\u001b[0minplace\u001b[0m\u001b[1;33m,\u001b[0m\u001b[1;33m\u001b[0m\u001b[0m\n\u001b[1;32m-> 3697\u001b[1;33m                                            errors=errors)\n\u001b[0m\u001b[0;32m   3698\u001b[0m \u001b[1;33m\u001b[0m\u001b[0m\n\u001b[0;32m   3699\u001b[0m     @rewrite_axis_style_signature('mapper', [('copy', True),\n",
      "\u001b[1;32mC:\\ProgramData\\Anaconda3\\lib\\site-packages\\pandas\\core\\generic.py\u001b[0m in \u001b[0;36mdrop\u001b[1;34m(self, labels, axis, index, columns, level, inplace, errors)\u001b[0m\n\u001b[0;32m   3109\u001b[0m         \u001b[1;32mfor\u001b[0m \u001b[0maxis\u001b[0m\u001b[1;33m,\u001b[0m \u001b[0mlabels\u001b[0m \u001b[1;32min\u001b[0m \u001b[0maxes\u001b[0m\u001b[1;33m.\u001b[0m\u001b[0mitems\u001b[0m\u001b[1;33m(\u001b[0m\u001b[1;33m)\u001b[0m\u001b[1;33m:\u001b[0m\u001b[1;33m\u001b[0m\u001b[0m\n\u001b[0;32m   3110\u001b[0m             \u001b[1;32mif\u001b[0m \u001b[0mlabels\u001b[0m \u001b[1;32mis\u001b[0m \u001b[1;32mnot\u001b[0m \u001b[1;32mNone\u001b[0m\u001b[1;33m:\u001b[0m\u001b[1;33m\u001b[0m\u001b[0m\n\u001b[1;32m-> 3111\u001b[1;33m                 \u001b[0mobj\u001b[0m \u001b[1;33m=\u001b[0m \u001b[0mobj\u001b[0m\u001b[1;33m.\u001b[0m\u001b[0m_drop_axis\u001b[0m\u001b[1;33m(\u001b[0m\u001b[0mlabels\u001b[0m\u001b[1;33m,\u001b[0m \u001b[0maxis\u001b[0m\u001b[1;33m,\u001b[0m \u001b[0mlevel\u001b[0m\u001b[1;33m=\u001b[0m\u001b[0mlevel\u001b[0m\u001b[1;33m,\u001b[0m \u001b[0merrors\u001b[0m\u001b[1;33m=\u001b[0m\u001b[0merrors\u001b[0m\u001b[1;33m)\u001b[0m\u001b[1;33m\u001b[0m\u001b[0m\n\u001b[0m\u001b[0;32m   3112\u001b[0m \u001b[1;33m\u001b[0m\u001b[0m\n\u001b[0;32m   3113\u001b[0m         \u001b[1;32mif\u001b[0m \u001b[0minplace\u001b[0m\u001b[1;33m:\u001b[0m\u001b[1;33m\u001b[0m\u001b[0m\n",
      "\u001b[1;32mC:\\ProgramData\\Anaconda3\\lib\\site-packages\\pandas\\core\\generic.py\u001b[0m in \u001b[0;36m_drop_axis\u001b[1;34m(self, labels, axis, level, errors)\u001b[0m\n\u001b[0;32m   3141\u001b[0m                 \u001b[0mnew_axis\u001b[0m \u001b[1;33m=\u001b[0m \u001b[0maxis\u001b[0m\u001b[1;33m.\u001b[0m\u001b[0mdrop\u001b[0m\u001b[1;33m(\u001b[0m\u001b[0mlabels\u001b[0m\u001b[1;33m,\u001b[0m \u001b[0mlevel\u001b[0m\u001b[1;33m=\u001b[0m\u001b[0mlevel\u001b[0m\u001b[1;33m,\u001b[0m \u001b[0merrors\u001b[0m\u001b[1;33m=\u001b[0m\u001b[0merrors\u001b[0m\u001b[1;33m)\u001b[0m\u001b[1;33m\u001b[0m\u001b[0m\n\u001b[0;32m   3142\u001b[0m             \u001b[1;32melse\u001b[0m\u001b[1;33m:\u001b[0m\u001b[1;33m\u001b[0m\u001b[0m\n\u001b[1;32m-> 3143\u001b[1;33m                 \u001b[0mnew_axis\u001b[0m \u001b[1;33m=\u001b[0m \u001b[0maxis\u001b[0m\u001b[1;33m.\u001b[0m\u001b[0mdrop\u001b[0m\u001b[1;33m(\u001b[0m\u001b[0mlabels\u001b[0m\u001b[1;33m,\u001b[0m \u001b[0merrors\u001b[0m\u001b[1;33m=\u001b[0m\u001b[0merrors\u001b[0m\u001b[1;33m)\u001b[0m\u001b[1;33m\u001b[0m\u001b[0m\n\u001b[0m\u001b[0;32m   3144\u001b[0m             \u001b[0mresult\u001b[0m \u001b[1;33m=\u001b[0m \u001b[0mself\u001b[0m\u001b[1;33m.\u001b[0m\u001b[0mreindex\u001b[0m\u001b[1;33m(\u001b[0m\u001b[1;33m**\u001b[0m\u001b[1;33m{\u001b[0m\u001b[0maxis_name\u001b[0m\u001b[1;33m:\u001b[0m \u001b[0mnew_axis\u001b[0m\u001b[1;33m}\u001b[0m\u001b[1;33m)\u001b[0m\u001b[1;33m\u001b[0m\u001b[0m\n\u001b[0;32m   3145\u001b[0m \u001b[1;33m\u001b[0m\u001b[0m\n",
      "\u001b[1;32mC:\\ProgramData\\Anaconda3\\lib\\site-packages\\pandas\\core\\indexes\\base.py\u001b[0m in \u001b[0;36mdrop\u001b[1;34m(self, labels, errors)\u001b[0m\n\u001b[0;32m   4402\u001b[0m             \u001b[1;32mif\u001b[0m \u001b[0merrors\u001b[0m \u001b[1;33m!=\u001b[0m \u001b[1;34m'ignore'\u001b[0m\u001b[1;33m:\u001b[0m\u001b[1;33m\u001b[0m\u001b[0m\n\u001b[0;32m   4403\u001b[0m                 raise KeyError(\n\u001b[1;32m-> 4404\u001b[1;33m                     '{} not found in axis'.format(labels[mask]))\n\u001b[0m\u001b[0;32m   4405\u001b[0m             \u001b[0mindexer\u001b[0m \u001b[1;33m=\u001b[0m \u001b[0mindexer\u001b[0m\u001b[1;33m[\u001b[0m\u001b[1;33m~\u001b[0m\u001b[0mmask\u001b[0m\u001b[1;33m]\u001b[0m\u001b[1;33m\u001b[0m\u001b[0m\n\u001b[0;32m   4406\u001b[0m         \u001b[1;32mreturn\u001b[0m \u001b[0mself\u001b[0m\u001b[1;33m.\u001b[0m\u001b[0mdelete\u001b[0m\u001b[1;33m(\u001b[0m\u001b[0mindexer\u001b[0m\u001b[1;33m)\u001b[0m\u001b[1;33m\u001b[0m\u001b[0m\n",
      "\u001b[1;31mKeyError\u001b[0m: \"['polarity' 'subjectivity'] not found in axis\""
     ]
    }
   ],
   "source": [
    "originalData = dfA.drop(labels=['polarity','subjectivity'], axis=1)\n",
    "print('Original Data Scores:')\n",
    "print('|---------------------|\\n|true neg  | false pos|\\n|----------| ---------|\\n|false neg | true pos |\\n|---------------------|')\n",
    "simpleGenderClf(originalData)"
   ]
  },
  {
   "cell_type": "code",
   "execution_count": 34,
   "metadata": {},
   "outputs": [
    {
     "name": "stdout",
     "output_type": "stream",
     "text": [
      "Adding in polarity and subjectivity scores:\n",
      "AUC: 0.5960667779318356\n"
     ]
    },
    {
     "data": {
      "image/png": "[encoded data removed]",
      "text/plain": [
       "<Figure size 432x288 with 6 Axes>"
      ]
     },
     "metadata": {
      "needs_background": "light"
     },
     "output_type": "display_data"
    }
   ],
   "source": [
    "print('Adding in polarity and subjectivity scores:')\n",
    "simpleGenderClf(dfA)"
   ]
  },
  {
   "cell_type": "code",
   "execution_count": 36,
   "metadata": {},
   "outputs": [],
   "source": [
    "def xgbFit(mod,data,predictors,doEstimatorCV=True, numFolds=5, earlyStoppingRounds=50):\n",
    "    trainData, validData = train_test_split(data, test_size=0.3, random_state=42)\n",
    "    \n",
    "    if doEstimatorCV:\n",
    "        param = mod.get_xgb_params()\n",
    "        dtrain = xgb.DMatrix(trainData[predictors].values, label=trainData['gender'].values)\n",
    "        cvresult = xgb.cv(param, dtrain, num_boost_round=mod.get_params()['n_estimators'], nfold=numFolds,\n",
    "            metrics='auc', early_stopping_rounds=earlyStoppingRounds,stratified=True)\n",
    "        print('CV for number of estimators: ',cvresult.shape[0])\n",
    "        mod.set_params(n_estimators=cvresult.shape[0])\n",
    "    \n",
    "    # Fit the algorithm on the training data\n",
    "    mod.fit(trainData[predictors], trainData['gender'],eval_metric='auc')\n",
    "        \n",
    "    # Predict training set:\n",
    "    dtrain_predictions = mod.predict(trainData[predictors])\n",
    "    dtrain_predprob = mod.predict_proba(trainData[predictors])[:,1]\n",
    "    \n",
    "    # Predict on validation set\n",
    "    dvalid_predictions = mod.predict(validData[predictors])\n",
    "    dvalid_predprob = mod.predict_proba(validData[predictors])[:,1]\n",
    "    \n",
    "    # Print report for the model:\n",
    "    print(\"Model Report:\")\n",
    "    print(\"Accuracy (Train) : %.4g\" % metrics.accuracy_score(trainData['gender'].values, dtrain_predictions))\n",
    "    print(\"AUC Score (Train): %f\" % metrics.roc_auc_score(trainData['gender'], dtrain_predprob))\n",
    "    print(\"Accuracy (Test) : %.4g\" % metrics.accuracy_score(validData['gender'].values, dvalid_predictions))\n",
    "    print(\"AUC Score (Test): %f\" % metrics.roc_auc_score(validData['gender'].values, dvalid_predprob))   \n",
    "    \n",
    "    # Get feature importances\n",
    "    fig, ax = plt.subplots(figsize=(10, 8))\n",
    "    xgb.plot_importance(mod,ax)\n",
    "    #featureImportance = pd.Series(xgb.booster().get_fscore()).sort_values(ascending=False)\n",
    "    #featureImportance.plot(kind='bar', title='Feature Importances')\n",
    "    #plt.ylabel('Feature Importance Score')"
   ]
  },
  {
   "cell_type": "code",
   "execution_count": null,
   "metadata": {},
   "outputs": [],
   "source": [
    "dfC = "
   ]
  },
  {
   "cell_type": "code",
   "execution_count": 37,
   "metadata": {
    "scrolled": true
   },
   "outputs": [
    {
     "name": "stdout",
     "output_type": "stream",
     "text": [
      "['comments', 'duration', 'film_date', 'languages', 'num_speaker', 'published_date', 'views', 'Longwinded', 'Courageous', 'Obnoxious', 'Fascinating', 'OK', 'Inspiring', 'Beautiful', 'Confusing', 'Funny', 'Persuasive', 'Informative', 'Ingenious', 'Unconvincing', 'Jaw-dropping']\n",
      "CV for number of estimators:  36\n",
      "Model Report:\n"
     ]
    },
    {
     "name": "stderr",
     "output_type": "stream",
     "text": [
      "C:\\ProgramData\\Anaconda3\\lib\\site-packages\\sklearn\\preprocessing\\label.py:151: DeprecationWarning: The truth value of an empty array is ambiguous. Returning False, but in future this will result in an error. Use `array.size > 0` to check that an array is not empty.\n",
      "  if diff:\n",
      "C:\\ProgramData\\Anaconda3\\lib\\site-packages\\sklearn\\preprocessing\\label.py:151: DeprecationWarning: The truth value of an empty array is ambiguous. Returning False, but in future this will result in an error. Use `array.size > 0` to check that an array is not empty.\n",
      "  if diff:\n"
     ]
    },
    {
     "name": "stdout",
     "output_type": "stream",
     "text": [
      "Accuracy (Train) : 0.8838\n",
      "AUC Score (Train): 0.951487\n",
      "Accuracy (Test) : 0.6976\n",
      "AUC Score (Test): 0.719107\n"
     ]
    },
    {
     "data": {
      "image/png": "[encoded data removed]",
      "text/plain": [
       "<Figure size 720x576 with 1 Axes>"
      ]
     },
     "metadata": {
      "needs_background": "light"
     },
     "output_type": "display_data"
    }
   ],
   "source": [
    "#running the classifier with only original attributes\n",
    "orig_predictors = [feature for feature in dfB.select_dtypes(include=[np.number]).columns if feature not in ['gender', 'polarity','subjectivity']]\n",
    "print(orig_predictors)\n",
    "# Let's start somewhere, fix some parameters at standard values and go from there\n",
    "xgb1 = XGBClassifier(\n",
    " learning_rate =0.1,\n",
    " n_estimators=1000,\n",
    " max_depth=5,\n",
    " min_child_weight=1,\n",
    " gamma=0.2,\n",
    " subsample=0.8,\n",
    " colsample_bytree=0.8,\n",
    " objective= 'binary:logistic',\n",
    " nthread=4,\n",
    " scale_pos_weight=0.47, # Ratio of neg to pos classes\n",
    " seed=27)\n",
    "\n",
    "xgbFit(xgb1, dfB, orig_predictors)"
   ]
  },
  {
   "cell_type": "code",
   "execution_count": 39,
   "metadata": {
    "scrolled": true
   },
   "outputs": [
    {
     "name": "stdout",
     "output_type": "stream",
     "text": [
      "['comments', 'duration', 'film_date', 'languages', 'num_speaker', 'published_date', 'views', 'Longwinded', 'Courageous', 'Obnoxious', 'Fascinating', 'OK', 'Inspiring', 'Beautiful', 'Confusing', 'Funny', 'Persuasive', 'Informative', 'Ingenious', 'Unconvincing', 'Jaw-dropping']\n",
      "CV for number of estimators:  36\n",
      "Model Report:\n",
      "Accuracy (Train) : 0.8838\n",
      "AUC Score (Train): 0.951487\n",
      "Accuracy (Test) : 0.6976\n",
      "AUC Score (Test): 0.719107\n"
     ]
    },
    {
     "name": "stderr",
     "output_type": "stream",
     "text": [
      "C:\\ProgramData\\Anaconda3\\lib\\site-packages\\sklearn\\preprocessing\\label.py:151: DeprecationWarning: The truth value of an empty array is ambiguous. Returning False, but in future this will result in an error. Use `array.size > 0` to check that an array is not empty.\n",
      "  if diff:\n",
      "C:\\ProgramData\\Anaconda3\\lib\\site-packages\\sklearn\\preprocessing\\label.py:151: DeprecationWarning: The truth value of an empty array is ambiguous. Returning False, but in future this will result in an error. Use `array.size > 0` to check that an array is not empty.\n",
      "  if diff:\n"
     ]
    },
    {
     "data": {
      "image/png": "[encoded data removed]",
      "text/plain": [
       "<Figure size 720x576 with 1 Axes>"
      ]
     },
     "metadata": {
      "needs_background": "light"
     },
     "output_type": "display_data"
    }
   ],
   "source": [
    "#including the new attributes\n",
    "predictors_with_sentiments = [feature for feature in dfB.select_dtypes(include=[np.number]).columns if feature not in ['gender']]\n",
    "print(predictors_with_sentiments)\n",
    "\n",
    "xgb2 = XGBClassifier(\n",
    " learning_rate =0.1,\n",
    " n_estimators=1000,\n",
    " max_depth=5,\n",
    " min_child_weight=1,\n",
    " gamma=0.2,\n",
    " subsample=0.8,\n",
    " colsample_bytree=0.8,\n",
    " objective= 'binary:logistic',\n",
    " nthread=4,\n",
    " scale_pos_weight=0.47, # Ratio of neg to pos classes\n",
    " seed=27)\n",
    "\n",
    "xgbFit(xgb1, dfB, predictors_with_sentiments)"
   ]
  },
  {
   "cell_type": "code",
   "execution_count": 40,
   "metadata": {},
   "outputs": [],
   "source": [
    "dfA = dfA.replace(to_replace=0, value= 'male')\n"
   ]
  },
  {
   "cell_type": "code",
   "execution_count": 41,
   "metadata": {},
   "outputs": [],
   "source": [
    "dfA = dfA.replace(to_replace=1, value= 'female')\n"
   ]
  },
  {
   "cell_type": "code",
   "execution_count": null,
   "metadata": {},
   "outputs": [],
   "source": [
    "menTED = dfA[dfA['gender'] == 'male']\n",
    "womenTED = dfA[dfA['gender'] == 'female']\n",
    "#print('Description of male speaker TED data:')\n",
    "#menTED.describe()\n",
    "#print('Description of female speaker TED data:')\n",
    "#womenTED.describe()"
   ]
  },
  {
   "cell_type": "code",
   "execution_count": null,
   "metadata": {
    "scrolled": true
   },
   "outputs": [],
   "source": [
    "maleCommonWords = mostFrequentWords(menTED,25,'Male Speaker',normalize=True)\n",
    "femaleCommonWords = mostFrequentWords(womenTED,25,'Female Speaker',normalize=True)"
   ]
  },
  {
   "cell_type": "code",
   "execution_count": null,
   "metadata": {},
   "outputs": [],
   "source": [
    "def getNormalizedGenderWordCounts():\n",
    "    maleWords = getWords(menTED,removeStopWords=True)\n",
    "    femaleWords = getWords(womenTED,removeStopWords=True)\n",
    "\n",
    "    # Get counts for each word\n",
    "    maleWordCounts = Counter(maleWords)\n",
    "    femaleWordCounts = Counter(femaleWords)\n",
    "\n",
    "    # Normalize counts by number of total words spoken by men \n",
    "    normalizedMaleWordCounts = {}\n",
    "    for word,count in dict(maleWordCounts).items():\n",
    "        normalizedMaleWordCounts[word] = count/float(len(maleWords))\n",
    "\n",
    "    # Normalize counts by number of total words spoken by women \n",
    "    normalizedFemaleWordCounts = {}\n",
    "    for word,count in dict(femaleWordCounts).items():\n",
    "        normalizedFemaleWordCounts[word] = count/float(len(femaleWords))\n",
    "        \n",
    "    return normalizedMaleWordCounts, normalizedFemaleWordCounts"
   ]
  },
  {
   "cell_type": "code",
   "execution_count": null,
   "metadata": {},
   "outputs": [],
   "source": [
    "def menVsWomenWordCounts(wordsToCount):    \n",
    "    normalizedMaleWordCounts, normalizedFemaleWordCounts = getNormalizedGenderWordCounts()\n",
    "    maleCount = 0\n",
    "    for word,count in normalizedMaleWordCounts.items():\n",
    "        if word in wordsToCount:\n",
    "            maleCount += count\n",
    "        \n",
    "    femaleCount = 0\n",
    "    for word,count in normalizedFemaleWordCounts.items():\n",
    "        if word in wordsToCount:\n",
    "            femaleCount += count\n",
    "            \n",
    "    return maleCount, femaleCount"
   ]
  },
  {
   "cell_type": "code",
   "execution_count": 42,
   "metadata": {},
   "outputs": [
    {
     "ename": "NameError",
     "evalue": "name 'menVsWomenWordCounts' is not defined",
     "output_type": "error",
     "traceback": [
      "\u001b[1;31m---------------------------------------------------------------------------\u001b[0m",
      "\u001b[1;31mNameError\u001b[0m                                 Traceback (most recent call last)",
      "\u001b[1;32m<ipython-input-42-02cd3516981e>\u001b[0m in \u001b[0;36m<module>\u001b[1;34m()\u001b[0m\n\u001b[0;32m      1\u001b[0m \u001b[0muncertainty\u001b[0m \u001b[1;33m=\u001b[0m \u001b[1;33m[\u001b[0m\u001b[1;34m'um'\u001b[0m\u001b[1;33m,\u001b[0m\u001b[1;34m'uh'\u001b[0m\u001b[1;33m,\u001b[0m\u001b[1;34m'-'\u001b[0m\u001b[1;33m]\u001b[0m\u001b[1;33m\u001b[0m\u001b[0m\n\u001b[1;32m----> 2\u001b[1;33m \u001b[0mmaleUncertaintyCount\u001b[0m\u001b[1;33m,\u001b[0m \u001b[0mfemaleUncertaintyCount\u001b[0m \u001b[1;33m=\u001b[0m \u001b[0mmenVsWomenWordCounts\u001b[0m\u001b[1;33m(\u001b[0m\u001b[0muncertainty\u001b[0m\u001b[1;33m)\u001b[0m\u001b[1;33m\u001b[0m\u001b[0m\n\u001b[0m\u001b[0;32m      3\u001b[0m \u001b[0mprint\u001b[0m\u001b[1;33m(\u001b[0m\u001b[1;34m'Percentage of uncertainty words for men:  '\u001b[0m\u001b[1;33m,\u001b[0m\u001b[0mmaleUncertaintyCount\u001b[0m\u001b[1;33m)\u001b[0m\u001b[1;33m\u001b[0m\u001b[0m\n\u001b[0;32m      4\u001b[0m \u001b[0mprint\u001b[0m\u001b[1;33m(\u001b[0m\u001b[1;34m'Percentage of uncertainty words for women:'\u001b[0m\u001b[1;33m,\u001b[0m\u001b[0mfemaleUncertaintyCount\u001b[0m\u001b[1;33m)\u001b[0m\u001b[1;33m\u001b[0m\u001b[0m\n",
      "\u001b[1;31mNameError\u001b[0m: name 'menVsWomenWordCounts' is not defined"
     ]
    }
   ],
   "source": [
    "uncertainty = ['um','uh','-']\n",
    "maleUncertaintyCount, femaleUncertaintyCount = menVsWomenWordCounts(uncertainty)\n",
    "print('Percentage of uncertainty words for men:  ',maleUncertaintyCount)\n",
    "print('Percentage of uncertainty words for women:',femaleUncertaintyCount)"
   ]
  },
  {
   "cell_type": "code",
   "execution_count": null,
   "metadata": {},
   "outputs": [],
   "source": [
    "def compareGenders(feature):\n",
    "    fig, axes = plt.subplots(nrows=1, ncols=2, figsize=(18, 6))\n",
    "    # violin plots in seaborn require 2 catagorical variables ('x' and 'hue'). We use 'gender' for hue.\n",
    "    placeholder = np.zeros(len(dfA[feature].values))\n",
    "    _ = sns.violinplot(x=placeholder, y=dfA[feature], hue=dfA.gender,split=True,ax=axes[0], palette='pastel')\n",
    "    _ = axes[0].set_title('Comparing Distribution of '+feature+ ' by Gender')\n",
    "    _ = sns.boxplot(x=placeholder,y=dfA[feature],hue=dfA.gender, ax = axes[1])\n",
    "    _ = axes[1].set_title('Comparing Distribution of '+feature+ ' by Gender')\n",
    "    plt.show()"
   ]
  },
  {
   "cell_type": "code",
   "execution_count": null,
   "metadata": {
    "scrolled": true
   },
   "outputs": [],
   "source": [
    "compareGenders('views')\n",
    "compareGenders('comments')\n",
    "compareGenders('film_date')\n",
    "compareGenders('published_date')\n",
    "compareGenders('duration')"
   ]
  },
  {
   "cell_type": "code",
   "execution_count": null,
   "metadata": {},
   "outputs": [],
   "source": [
    "def sortWordsByGenderGap():\n",
    "    normalizedMaleWordCounts, normalizedFemaleWordCounts = getNormalizedGenderWordCounts()\n",
    "    doneWords = set() # To keep track of the words we've done\n",
    "    genderGap = dict() # To record differnce by gender of word frequency\n",
    "    \n",
    "    # Loop through all male words and get gender difference\n",
    "    for word, maleCount in normalizedMaleWordCounts.items():\n",
    "        doneWords.add(word)\n",
    "        if word in normalizedFemaleWordCounts.keys():\n",
    "            femaleCount = normalizedFemaleWordCounts[word]\n",
    "        else:\n",
    "            femaleCount = 0\n",
    "        diff = maleCount-femaleCount\n",
    "        genderGap[word] = diff\n",
    "        \n",
    "    for word, femaleCount in normalizedFemaleWordCounts.items():\n",
    "        # We already went through every word in male dictionary, if we reach it here, word count for men is 0,\n",
    "        # therefore the difference between men and women frequencies for this word is just the women frequency.\n",
    "        if word not in doneWords:\n",
    "            genderGap[word] = -femaleCount \n",
    "    sortedMenFirst = sorted(genderGap.items(), key=operator.itemgetter(1),reverse=True)\n",
    "    sortedWomenFirst = sorted(genderGap.items(), key=operator.itemgetter(1),reverse=False)\n",
    "    \n",
    "    \n",
    "    \n",
    "    # Plot a histogram of words that men say more frequently than women \n",
    "    _ = plt.figure(figsize=(10,6))\n",
    "    _ = sns.barplot(list(dict(sortedMenFirst[0:15]).keys()), list(dict(sortedMenFirst[0:15]).values()))\n",
    "    title = ('Words Said More Frequently by Men Than Women')\n",
    "    _ = plt.ylabel('Relative Difference of Normalized Word Frequency')\n",
    "    _ = plt.xlabel('Word')\n",
    "    _ = plt.title(title)\n",
    "    _ = plt.xticks(rotation=300)\n",
    "    plt.show()\n",
    "    \n",
    "    # Plot a histogram of words that women say more frequently than men \n",
    "    _ = plt.figure(figsize=(10,6))\n",
    "    _ = sns.barplot(list(dict(sortedWomenFirst[0:15]).keys()), np.fabs(list(dict(sortedWomenFirst[0:15]).values())))\n",
    "    title = ('Words Said More Frequently by Women Than Men')\n",
    "    _ = plt.title(title)\n",
    "    _ = plt.ylabel('Relative Difference of Normalized Word Frequency')\n",
    "    _ = plt.xlabel('Word')\n",
    "    _ = plt.xticks(rotation=300)\n",
    "    plt.show()\n",
    "    return sortedMenFirst\n",
    "\n",
    "_ = sortWordsByGenderGap()"
   ]
  },
  {
   "cell_type": "code",
   "execution_count": null,
   "metadata": {},
   "outputs": [],
   "source": [
    "# This method generates k number of clusters specified in the function call. default value is 2.\n",
    "def genClusters(dataFrame, k=2):\n",
    "    vector_matrix = getTFIDFvectors(dataFrame)\n",
    "    means = KMeans(k, random_state =0)\n",
    "    result = means.fit_predict(vector_matrix)\n",
    "    result_1 = means.fit_transform(vector_matrix)\n",
    "    plt.scatter(result_1[:,0],result_1[:,1],c =result, cmap = 'autumn')\n",
    "    plt.title(\"Basic Clustering without any transformation on the data\")"
   ]
  },
  {
   "cell_type": "code",
   "execution_count": null,
   "metadata": {},
   "outputs": [],
   "source": [
    "genClusters(dfA)"
   ]
  },
  {
   "cell_type": "code",
   "execution_count": null,
   "metadata": {},
   "outputs": [],
   "source": [
    "def genClusters_svd(dataFrame, k =2, n_comp = 5):\n",
    "    vector_matrix = getTFIDFvectors(dataFrame)\n",
    "    means = KMeans(k, random_state = 0)\n",
    "    # doing TruncatedSVD on the matrix with specified number of components. PCA isn't supported on sparse matrices\n",
    "    tSVD = TruncatedSVD(n_components = n_comp)\n",
    "    transformed_vector_matrix = tSVD.fit_transform(vector_matrix)\n",
    "    \n",
    "    # Running Kmeans clustering algorithm on transformed data\n",
    "    result = means.fit_predict(transformed_vector_matrix)\n",
    "    result_1 = means.fit_transform(transformed_vector_matrix)\n",
    "    plt.scatter(result_1[:,0],result_1[:,1],c =result, cmap = 'autumn')\n",
    "    plt.title(\"Clustering the data after dimensionality reduction\")"
   ]
  },
  {
   "cell_type": "code",
   "execution_count": null,
   "metadata": {},
   "outputs": [],
   "source": [
    "genClusters_svd(dfA)"
   ]
  },
  {
   "cell_type": "code",
   "execution_count": null,
   "metadata": {},
   "outputs": [],
   "source": [
    "##from sklearn import tree\n",
    "##clf = tree.DecisionTreeClassifier()\n",
    "#clf = clf.fit(dfA, dfA.gender)"
   ]
  },
  {
   "cell_type": "code",
   "execution_count": null,
   "metadata": {},
   "outputs": [],
   "source": [
    "#treeData = tree.export_graphviz(clf, out_file=None, \n",
    "                         class_names=dfA.gender, filled=True, rounded=True, special_characters=True)  \n",
    "#graph = graphviz.Source(treeData)  \n",
    "#graph "
   ]
  },
  {
   "cell_type": "code",
   "execution_count": null,
   "metadata": {},
   "outputs": [],
   "source": []
  }
 ],
 "metadata": {
  "kernelspec": {
   "display_name": "Python 3",
   "language": "python",
   "name": "python3"
  },
  "language_info": {
   "codemirror_mode": {
    "name": "ipython",
    "version": 3
   },
   "file_extension": ".py",
   "mimetype": "text/x-python",
   "name": "python",
   "nbconvert_exporter": "python",
   "pygments_lexer": "ipython3",
   "version": "3.7.0"
  }
 },
 "nbformat": 4,
 "nbformat_minor": 2
}
